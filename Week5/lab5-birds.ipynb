{
 "cells": [
  {
   "cell_type": "markdown",
   "metadata": {},
   "source": [
    "# Lab 5: Species Distribution Modeling with Bagging \n",
    "Climate change and deforestation are accelerating ecosystem degradation, pushing animal species toward the brink of extinction. Understanding the distribution of animals and the factors that influence their ability to thrive in different environments is critical for conservation efforts. By studying these relationships, biological conservationists can develop informed strategies to protect endangered species and maintain biodiversity across diverse ecosystems.\n",
    "\n",
    "Species are defined by their behavioral, physiological, and ecological attributes, which shape their roles in ecosystems. In turn, ecosystems and their functions are deeply influenced by the species that inhabit them. This reciprocal relationship makes evaluating species' functional diversity and distributions essential for research in biogeography, community ecology, macroevolution, and conservation. Functional diversity is determined by traits such as diet, foraging strata, trophic level, activity cycle, litter size, generation length, habitat breadth, and body mass. These traits influence an animal’s ability to survive and adapt to different climates, playing a crucial role in ecosystem stability.\n",
    "\n",
    "In this lab, we will explore the connections between animal behaviors, functional traits, and species distributions across different climates."
   ]
  },
  {
   "cell_type": "code",
   "execution_count": 1,
   "metadata": {
    "tags": []
   },
   "outputs": [],
   "source": [
    "import pandas as pd\n",
    "import matplotlib.pyplot as plt\n",
    "import seaborn as sns\n",
    "from sklearn.ensemble import BaggingClassifier\n",
    "from sklearn.tree import DecisionTreeClassifier\n",
    "from sklearn.model_selection import train_test_split\n",
    "from sklearn.metrics import accuracy_score, roc_curve, auc\n",
    "from sklearn.preprocessing import StandardScaler, LabelEncoder\n",
    "from sklearn.inspection import permutation_importance\n",
    "from sklearn.utils import resample\n",
    "from sklearn.impute import SimpleImputer"
   ]
  },
  {
   "cell_type": "markdown",
   "metadata": {},
   "source": [
    "### Step 1: Standardizing column names\n",
    "\n",
    "The dataset contains several columns that describe different aspects of bird diets. These column names currently include spaces, colons (:), and special characters, which can make them difficult to work with in code.\n",
    "\n",
    "Load the dataset (BirdTraitData.csv) into a Pandas DataFrame.\n",
    "\n",
    "The 7 column names that start with \"Diet:\" should be renamed to simpler version starting with `Diet_` in a way that conforms with this list of key variables:\n",
    "\n",
    "`AdultBodyMass`, `DietBreadth`, `Diet_Invertebrates`, `Diet_Vertebrates`,`Diet_Fruits`, `Diet_Flowers`, `Diet_Seeds`, `Diet_Plants`, `Diet_Other`, `TrophicLevel`,`ActivityCycle`, `ForagingStratum`, `MigratoryStatus`,`IncubationTime`, `ClutchSize`, `EggLength`, `EggWidth`,`EggMass`, `NestingHabit`,`MaxLongevity`, `Subarid`\n",
    "\n",
    "Then select only that list of 21 key variables. **Print the head of your dataframe.** "
   ]
  },
  {
   "cell_type": "code",
   "execution_count": 2,
   "metadata": {
    "tags": []
   },
   "outputs": [
    {
     "name": "stdout",
     "output_type": "stream",
     "text": [
      "             Order        Family      Genus                     Species  \\\n",
      "0  Accipitriformes  Accipitridae  Accipiter        Accipiter francesiae   \n",
      "1  Accipitriformes  Accipitridae  Accipiter           Accipiter henstii   \n",
      "2  Accipitriformes  Accipitridae  Accipiter  Accipiter madagascariensis   \n",
      "3  Accipitriformes  Accipitridae    Aviceda    Aviceda madagascariensis   \n",
      "4  Accipitriformes  Accipitridae      Buteo          Buteo brachypterus   \n",
      "\n",
      "          Authority               CommonName  AdultBodyMass  DietBreadth  \\\n",
      "0       Smith, 1834   Frances's Sparrowhawk           138.5          2.0   \n",
      "1  (Schlegel, 1873)         Henst's Goshawk          1050.0          1.0   \n",
      "2       Smith, 1834  Madagascar Sparrowhawk           181.0          2.0   \n",
      "3     (Smith, 1834)         Madagascar Baza           292.0          2.0   \n",
      "4    Hartlaub, 1860      Madagascar Buzzard           511.0          2.0   \n",
      "\n",
      "  Diet: invertebrates Diet: vertebrates  ... Sofia Vakinankaratra  \\\n",
      "0                 yes               yes  ...     1              1   \n",
      "1                  no               yes  ...     1              1   \n",
      "2                 yes               yes  ...     1              1   \n",
      "3                 yes               yes  ...     1              1   \n",
      "4                 yes               yes  ...     1              1   \n",
      "\n",
      "  Vatovavy.Fitovinany Antananarivo Antsiranana  Fianarantsoa  Mahajanga  \\\n",
      "0                   1            1           1             1          1   \n",
      "1                   1            1           1             1          1   \n",
      "2                   1            1           1             1          1   \n",
      "3                   1            1           1             1          1   \n",
      "4                   1            1           1             1          1   \n",
      "\n",
      "   Toamasina Toliara                    References  \n",
      "0          1       1  109; 254; 168; 376; 368; 199  \n",
      "1          1       1       109; 254; 376; 200; 168  \n",
      "2          1       1       109; 254; 168; 376; 202  \n",
      "3          1       1  376; 331; 376; 168; 254; 195  \n",
      "4          1       1  109; 168; 254; 376; 198; 186  \n",
      "\n",
      "[5 rows x 60 columns]\n"
     ]
    }
   ],
   "source": [
    "# Load bird data\n",
    "bird_data = pd.read_csv(\"BirdTraitData.csv\", encoding='unicode_escape', na_values = [-999])\n",
    "\n",
    "# Print first 5 rows of bird data\n",
    "print(bird_data.head())"
   ]
  },
  {
   "cell_type": "code",
   "execution_count": 3,
   "metadata": {
    "tags": []
   },
   "outputs": [],
   "source": [
    "# Rename columns\n",
    "bird_data = bird_data.rename(columns={'Diet: invertebrates': 'Diet_Invertebrates',\n",
    "                       'Diet: vertebrates': 'Diet_Vertebrates',\n",
    "                       'Diet: fruits': 'Diet_Fruits',\n",
    "                       'Diet: flower/nectar/pollen/gums': 'Diet_Flowers',\n",
    "                       'Diet: seeds':'Diet_Seeds',\n",
    "                       'Diet: other plant materials': 'Diet_Plants',\n",
    "                       'Diet: scavenge; garbage; carrion; offal; carcasses': 'Diet_Other'})"
   ]
  },
  {
   "cell_type": "code",
   "execution_count": 4,
   "metadata": {},
   "outputs": [],
   "source": [
    "# Select columns\n",
    "selected_columns = ['AdultBodyMass',\n",
    "                    'DietBreadth',\n",
    "                    'Diet_Invertebrates',\n",
    "                    'Diet_Vertebrates',\n",
    "                    'Diet_Fruits',\n",
    "                    'Diet_Flowers',\n",
    "                    'Diet_Seeds',\n",
    "                    'Diet_Plants',\n",
    "                    'Diet_Other',\n",
    "                    'TrophicLevel',\n",
    "                    'ActivityCycle',\n",
    "                    'ForagingStratum',\n",
    "                    'MigratoryStatus',\n",
    "                    'IncubationTime',\n",
    "                    'ClutchSize',\n",
    "                    'EggLength',\n",
    "                    'EggWidth',\n",
    "                    'EggMass',\n",
    "                    'NestingHabit',\n",
    "                    'MaxLongevity',\n",
    "                    'Subarid']\n",
    "\n",
    "# Filter df for selected columns\n",
    "bird_data= bird_data[selected_columns]"
   ]
  },
  {
   "cell_type": "markdown",
   "metadata": {},
   "source": [
    "### Step 2: Encode categorical variables\n",
    "In our dataset, some columns contain categorical (non-numeric) data, such as species names or habitat types that need to be converted to numerical representations. Let's use label encoding to assign a unique number to each category in a column.\n",
    "\n",
    "Encode the data using this process:\n",
    "1. Find all categorical columns in df using `.select_dtypes(include=['object'])`\n",
    "2. Loop through each categorical column and apply `LabelEncoder()`\n",
    "3. Replace the original categorical columns with their encoded values.\n",
    "4. Print the head of your dataframe to ensure that labels were in fact encoded. "
   ]
  },
  {
   "cell_type": "code",
   "execution_count": 5,
   "metadata": {
    "tags": []
   },
   "outputs": [
    {
     "data": {
      "text/plain": [
       "AdultBodyMass         0\n",
       "DietBreadth           0\n",
       "Diet_Invertebrates    0\n",
       "Diet_Vertebrates      0\n",
       "Diet_Fruits           0\n",
       "Diet_Flowers          0\n",
       "Diet_Seeds            0\n",
       "Diet_Plants           0\n",
       "Diet_Other            0\n",
       "TrophicLevel          0\n",
       "ActivityCycle         0\n",
       "ForagingStratum       0\n",
       "MigratoryStatus       0\n",
       "IncubationTime        0\n",
       "ClutchSize            0\n",
       "EggLength             0\n",
       "EggWidth              0\n",
       "EggMass               0\n",
       "NestingHabit          0\n",
       "MaxLongevity          0\n",
       "Subarid               0\n",
       "dtype: int64"
      ]
     },
     "execution_count": 5,
     "metadata": {},
     "output_type": "execute_result"
    }
   ],
   "source": [
    "# Impute NA values\n",
    "imp = SimpleImputer(strategy = 'most_frequent')\n",
    "bird_data_imp = pd.DataFrame(data=imp.fit_transform(bird_data), columns=bird_data.columns)\n",
    "\n",
    "# Check that imputation of NAs worked\n",
    "bird_data_imp.isna().sum()"
   ]
  },
  {
   "cell_type": "code",
   "execution_count": 6,
   "metadata": {
    "tags": []
   },
   "outputs": [],
   "source": [
    "# Categorical columns in bird data\n",
    "bird_data_cat = bird_data_imp.select_dtypes(include=['object'])"
   ]
  },
  {
   "cell_type": "code",
   "execution_count": 7,
   "metadata": {},
   "outputs": [
    {
     "name": "stdout",
     "output_type": "stream",
     "text": [
      "   AdultBodyMass  DietBreadth  Diet_Invertebrates  Diet_Vertebrates  \\\n",
      "0            115            1                   1                 1   \n",
      "1            199            0                   0                 1   \n",
      "2            131            1                   1                 1   \n",
      "3            153            1                   1                 1   \n",
      "4            171            1                   1                 1   \n",
      "\n",
      "   Diet_Fruits  Diet_Flowers  Diet_Seeds  Diet_Plants  Diet_Other  \\\n",
      "0            0             0           0            0           0   \n",
      "1            0             0           0            0           0   \n",
      "2            0             0           0            0           0   \n",
      "3            0             0           0            0           0   \n",
      "4            0             0           0            0           0   \n",
      "\n",
      "   TrophicLevel  ...  ForagingStratum  MigratoryStatus  IncubationTime  \\\n",
      "0             2  ...                1                0              48   \n",
      "1             2  ...                1                0              56   \n",
      "2             2  ...                1                0              53   \n",
      "3             2  ...                1                0              48   \n",
      "4             2  ...                2                0              54   \n",
      "\n",
      "   ClutchSize  EggLength  EggWidth  EggMass  NestingHabit  MaxLongevity  \\\n",
      "0          10          0        69       37             1             8   \n",
      "1           7         77        80       37             1             8   \n",
      "2           7         42        46       37             1             8   \n",
      "3           2         53        58       66             1             8   \n",
      "4           4         73        77       37             1            10   \n",
      "\n",
      "   Subarid  \n",
      "0        1  \n",
      "1        1  \n",
      "2        1  \n",
      "3        1  \n",
      "4        1  \n",
      "\n",
      "[5 rows x 21 columns]\n"
     ]
    }
   ],
   "source": [
    "# Label Encoder \n",
    "le = LabelEncoder()\n",
    "\n",
    "# For each categorical column, apply Label Encoder\n",
    "for col in bird_data_cat:\n",
    "    bird_data_imp[col] = le.fit_transform(bird_data_imp[col])\n",
    "    \n",
    "# First 5 rows of encoded bird data   \n",
    "print(bird_data_imp.head())"
   ]
  },
  {
   "cell_type": "markdown",
   "metadata": {},
   "source": [
    "### Step 3: Defining features, splitting data, and training a bagging classifier\n",
    "Our goal for this analysis is to predict whether a given bird species is present in Subarid climate zones. \n",
    "\n",
    "1. Drop the corresponding variable from the features (X) and define it as the target (y). Then perform the train-test split with 70/30 train/test and a random state of 808.\n",
    "\n",
    "2. Initialize a bagging classifier with 100 trees, `oob_score =True`, `bootstrap = True` and `random_state = 808`.  \n",
    "\n",
    "3. Train the model."
   ]
  },
  {
   "cell_type": "code",
   "execution_count": 8,
   "metadata": {
    "tags": []
   },
   "outputs": [],
   "source": [
    "# Define features and target\n",
    "X = bird_data_imp.drop(columns=['Subarid'])\n",
    "y = bird_data_imp['Subarid']\n",
    "\n",
    "# Train-test split\n",
    "X_train, X_test, y_train, y_test = train_test_split(X, y, test_size=0.3, random_state=808)"
   ]
  },
  {
   "cell_type": "code",
   "execution_count": 9,
   "metadata": {
    "tags": []
   },
   "outputs": [
    {
     "data": {
      "text/html": [
       "<style>#sk-container-id-1 {color: black;}#sk-container-id-1 pre{padding: 0;}#sk-container-id-1 div.sk-toggleable {background-color: white;}#sk-container-id-1 label.sk-toggleable__label {cursor: pointer;display: block;width: 100%;margin-bottom: 0;padding: 0.3em;box-sizing: border-box;text-align: center;}#sk-container-id-1 label.sk-toggleable__label-arrow:before {content: \"▸\";float: left;margin-right: 0.25em;color: #696969;}#sk-container-id-1 label.sk-toggleable__label-arrow:hover:before {color: black;}#sk-container-id-1 div.sk-estimator:hover label.sk-toggleable__label-arrow:before {color: black;}#sk-container-id-1 div.sk-toggleable__content {max-height: 0;max-width: 0;overflow: hidden;text-align: left;background-color: #f0f8ff;}#sk-container-id-1 div.sk-toggleable__content pre {margin: 0.2em;color: black;border-radius: 0.25em;background-color: #f0f8ff;}#sk-container-id-1 input.sk-toggleable__control:checked~div.sk-toggleable__content {max-height: 200px;max-width: 100%;overflow: auto;}#sk-container-id-1 input.sk-toggleable__control:checked~label.sk-toggleable__label-arrow:before {content: \"▾\";}#sk-container-id-1 div.sk-estimator input.sk-toggleable__control:checked~label.sk-toggleable__label {background-color: #d4ebff;}#sk-container-id-1 div.sk-label input.sk-toggleable__control:checked~label.sk-toggleable__label {background-color: #d4ebff;}#sk-container-id-1 input.sk-hidden--visually {border: 0;clip: rect(1px 1px 1px 1px);clip: rect(1px, 1px, 1px, 1px);height: 1px;margin: -1px;overflow: hidden;padding: 0;position: absolute;width: 1px;}#sk-container-id-1 div.sk-estimator {font-family: monospace;background-color: #f0f8ff;border: 1px dotted black;border-radius: 0.25em;box-sizing: border-box;margin-bottom: 0.5em;}#sk-container-id-1 div.sk-estimator:hover {background-color: #d4ebff;}#sk-container-id-1 div.sk-parallel-item::after {content: \"\";width: 100%;border-bottom: 1px solid gray;flex-grow: 1;}#sk-container-id-1 div.sk-label:hover label.sk-toggleable__label {background-color: #d4ebff;}#sk-container-id-1 div.sk-serial::before {content: \"\";position: absolute;border-left: 1px solid gray;box-sizing: border-box;top: 0;bottom: 0;left: 50%;z-index: 0;}#sk-container-id-1 div.sk-serial {display: flex;flex-direction: column;align-items: center;background-color: white;padding-right: 0.2em;padding-left: 0.2em;position: relative;}#sk-container-id-1 div.sk-item {position: relative;z-index: 1;}#sk-container-id-1 div.sk-parallel {display: flex;align-items: stretch;justify-content: center;background-color: white;position: relative;}#sk-container-id-1 div.sk-item::before, #sk-container-id-1 div.sk-parallel-item::before {content: \"\";position: absolute;border-left: 1px solid gray;box-sizing: border-box;top: 0;bottom: 0;left: 50%;z-index: -1;}#sk-container-id-1 div.sk-parallel-item {display: flex;flex-direction: column;z-index: 1;position: relative;background-color: white;}#sk-container-id-1 div.sk-parallel-item:first-child::after {align-self: flex-end;width: 50%;}#sk-container-id-1 div.sk-parallel-item:last-child::after {align-self: flex-start;width: 50%;}#sk-container-id-1 div.sk-parallel-item:only-child::after {width: 0;}#sk-container-id-1 div.sk-dashed-wrapped {border: 1px dashed gray;margin: 0 0.4em 0.5em 0.4em;box-sizing: border-box;padding-bottom: 0.4em;background-color: white;}#sk-container-id-1 div.sk-label label {font-family: monospace;font-weight: bold;display: inline-block;line-height: 1.2em;}#sk-container-id-1 div.sk-label-container {text-align: center;}#sk-container-id-1 div.sk-container {/* jupyter's `normalize.less` sets `[hidden] { display: none; }` but bootstrap.min.css set `[hidden] { display: none !important; }` so we also need the `!important` here to be able to override the default hidden behavior on the sphinx rendered scikit-learn.org. See: https://github.com/scikit-learn/scikit-learn/issues/21755 */display: inline-block !important;position: relative;}#sk-container-id-1 div.sk-text-repr-fallback {display: none;}</style><div id=\"sk-container-id-1\" class=\"sk-top-container\"><div class=\"sk-text-repr-fallback\"><pre>BaggingClassifier(estimator=DecisionTreeClassifier(), n_estimators=100,\n",
       "                  oob_score=True, random_state=808)</pre><b>In a Jupyter environment, please rerun this cell to show the HTML representation or trust the notebook. <br />On GitHub, the HTML representation is unable to render, please try loading this page with nbviewer.org.</b></div><div class=\"sk-container\" hidden><div class=\"sk-item sk-dashed-wrapped\"><div class=\"sk-label-container\"><div class=\"sk-label sk-toggleable\"><input class=\"sk-toggleable__control sk-hidden--visually\" id=\"sk-estimator-id-1\" type=\"checkbox\" ><label for=\"sk-estimator-id-1\" class=\"sk-toggleable__label sk-toggleable__label-arrow\">BaggingClassifier</label><div class=\"sk-toggleable__content\"><pre>BaggingClassifier(estimator=DecisionTreeClassifier(), n_estimators=100,\n",
       "                  oob_score=True, random_state=808)</pre></div></div></div><div class=\"sk-parallel\"><div class=\"sk-parallel-item\"><div class=\"sk-item\"><div class=\"sk-label-container\"><div class=\"sk-label sk-toggleable\"><input class=\"sk-toggleable__control sk-hidden--visually\" id=\"sk-estimator-id-2\" type=\"checkbox\" ><label for=\"sk-estimator-id-2\" class=\"sk-toggleable__label sk-toggleable__label-arrow\">estimator: DecisionTreeClassifier</label><div class=\"sk-toggleable__content\"><pre>DecisionTreeClassifier()</pre></div></div></div><div class=\"sk-serial\"><div class=\"sk-item\"><div class=\"sk-estimator sk-toggleable\"><input class=\"sk-toggleable__control sk-hidden--visually\" id=\"sk-estimator-id-3\" type=\"checkbox\" ><label for=\"sk-estimator-id-3\" class=\"sk-toggleable__label sk-toggleable__label-arrow\">DecisionTreeClassifier</label><div class=\"sk-toggleable__content\"><pre>DecisionTreeClassifier()</pre></div></div></div></div></div></div></div></div></div></div>"
      ],
      "text/plain": [
       "BaggingClassifier(estimator=DecisionTreeClassifier(), n_estimators=100,\n",
       "                  oob_score=True, random_state=808)"
      ]
     },
     "execution_count": 9,
     "metadata": {},
     "output_type": "execute_result"
    }
   ],
   "source": [
    "# Train a Bagging Ensemble of Decision Trees\n",
    "bagging = BaggingClassifier(estimator = DecisionTreeClassifier(),\n",
    "                            n_estimators = 100, # Number of trees\n",
    "                            oob_score = True,\n",
    "                            bootstrap = True,\n",
    "                            random_state = 808)\n",
    "\n",
    "bagging.fit(X_train, y_train)"
   ]
  },
  {
   "cell_type": "markdown",
   "metadata": {},
   "source": [
    "### Step 4: Make predictions and evaluate the model\n",
    "\n",
    "1. Generate predictions\n",
    "- Use the trained bagging model to predict values for the test set (`X_test`).\n",
    "\n",
    "2. Calculate the Out-of-Bag (OOB) Score\n",
    "- The OOB score is an internal validation score computed using samples not included in bootstrapped subsets.\n",
    "\n",
    "3. Compute model accuracy\n",
    "- Print the OOB score and the bagging accuracy score."
   ]
  },
  {
   "cell_type": "code",
   "execution_count": 10,
   "metadata": {
    "tags": []
   },
   "outputs": [
    {
     "name": "stdout",
     "output_type": "stream",
     "text": [
      "The model OOB score: 0.858\n",
      "Model accuracy: 0.918\n"
     ]
    }
   ],
   "source": [
    "# Generate predictions\n",
    "bagging_pred_y = bagging.predict(X_test)\n",
    "\n",
    "# Out-of-Bag (OOB) Score\n",
    "oob_score = bagging.oob_score_\n",
    "\n",
    "# Model accuracy\n",
    "accuracy = accuracy_score(y_test, bagging_pred_y)\n",
    "\n",
    "print(f\"The model OOB score: {oob_score:.3f}\")\n",
    "print(f\"Model accuracy: {accuracy:.3f}\")"
   ]
  },
  {
   "cell_type": "markdown",
   "metadata": {},
   "source": [
    "### Step 5: Calculate and plot ROC curve\n",
    "\n",
    "- Use `label=f\"Bagging (AUC = {roc_auc_bagging:.2f})\"` to include the AUC value in the plot."
   ]
  },
  {
   "cell_type": "code",
   "execution_count": 11,
   "metadata": {
    "tags": []
   },
   "outputs": [
    {
     "data": {
      "image/png": "[encoded data removed]",
      "text/plain": [
       "<Figure size 800x500 with 1 Axes>"
      ]
     },
     "metadata": {},
     "output_type": "display_data"
    }
   ],
   "source": [
    "# ROC Curve\n",
    "fpr_bag, tpr_bag, _ = roc_curve(y_test, bagging.predict_proba(X_test)[:, 1])\n",
    "roc_auc_bagging = auc(fpr_bag, tpr_bag)\n",
    "\n",
    "plt.figure(figsize=(8, 5))\n",
    "\n",
    "plt.plot(fpr_bag, tpr_bag, color='#709176', lw=2, label=f'Bagging (AUC = {roc_auc_bagging:.2f})')\n",
    "\n",
    "plt.title('ROC Curve')\n",
    "plt.xlabel('False Positive Rate')\n",
    "plt.ylabel('True Positive Rate')\n",
    "plt.legend(loc=\"lower right\")\n",
    "\n",
    "plt.show()"
   ]
  },
  {
   "cell_type": "markdown",
   "metadata": {},
   "source": [
    "Now how does the ROC curve look? How does this compare to our classification accuracy metric?  What might be going on? "
   ]
  },
  {
   "cell_type": "markdown",
   "metadata": {},
   "source": [
    "*The ROC curve looks a little strange as it is not a true curve and slightly erratic looking. The model's AUC is also not very good at 0.65, which is slightly higher than an AUC of 0.5 which would indicate a random guess. Out accuracy metric of 0.918, on the other hand, indicates out model is performing quite well. This may be caused by an imbalanced dataset.*"
   ]
  },
  {
   "cell_type": "markdown",
   "metadata": {},
   "source": [
    "### Step 6: Introducing upsampling\n",
    "\n",
    "The ROC curve indicates that our model is not performing well.  This is a common issue in imbalanced datasets, where one class significantly outnumbers the other. To improve our model’s ability to correctly classify both groups, we will upsample the minority class so that both classes have equal representation in the training set.\n",
    "\n",
    "**Perform upsampling to balance the dataset**\n",
    "1. Separate the majority and minority classes:\n",
    "- Identify which class (0,1) is underrepresented (the minority class) and which is overrepresented (the majority class). \n",
    "- Separate both the `X_train` data and `y_train` data into all majority class and all minority class sets. \n",
    "2. Apply upsampling:\n",
    "- Use `resample()` to create additional synthetic samples of the minority class *with replacement* until it is the same size as the majority class data. Use a random state of 808. \n",
    "3. Combine the balanced classes:\n",
    "Merge the original majority class with the newly upsampled minority class.\n",
    "4. Shuffle the resampled dataset:\n",
    "- Randomly shuffle the data to ensure the model does not learn any unintended patterns from the order of the data. Use a random state of 808 for shuffling both the resampled X and y training data. \n",
    "5. Print the value counts for the resampled y training data to ensure that the data is balanced. \n"
   ]
  },
  {
   "cell_type": "code",
   "execution_count": 12,
   "metadata": {
    "tags": []
   },
   "outputs": [
    {
     "name": "stdout",
     "output_type": "stream",
     "text": [
      "Original value counts:\n",
      " Subarid\n",
      "1    150\n",
      "0     19\n",
      "Name: count, dtype: int64\n",
      "Upsampled value counts:\n",
      " Subarid\n",
      "0    150\n",
      "1    150\n",
      "Name: count, dtype: int64\n"
     ]
    }
   ],
   "source": [
    "# Separate majority and minority classes\n",
    "concat = pd.concat([X_train, y_train], axis=1)\n",
    "print(f\"Original value counts:\\n {concat['Subarid'].value_counts()}\")\n",
    "minority = concat[(concat['Subarid'] == 0)]\n",
    "majority = concat[(concat['Subarid'] == 1)]\n",
    "\n",
    "# Upsample the minority class\n",
    "minority_resampled = resample(minority, \n",
    "                              replace=True,       \n",
    "                              n_samples=majority.shape[0],  \n",
    "                              random_state=808)  \n",
    "\n",
    "# Combine majority and upsampled minority class\n",
    "balanced_train_data = pd.concat([majority, minority_resampled], axis = 0)\n",
    "\n",
    "# Shuffle the dataset\n",
    "shuffled_train_data = balanced_train_data.sample(frac = 1)\n",
    "X_upsampled = shuffled_train_data.drop(columns=['Subarid'])\n",
    "y_upsampled = shuffled_train_data['Subarid']\n",
    "\n",
    "# Print value counts \n",
    "print(f\"Upsampled value counts:\\n {y_upsampled.value_counts()}\")"
   ]
  },
  {
   "cell_type": "markdown",
   "metadata": {},
   "source": [
    "### Step 7: Retrain and evaluate model using balanced data\n",
    "\n",
    "Now that we have addressed the class imbalance by upsampling the minority class, we will retrain the bagging classifier on the newly balanced dataset and evaluate its performance. This will help us determine whether handling class imbalance improves model accuracy and its ability to distinguish between classes. Create a bagging model using your balanced data. Use a random state of 808. Print the accuracy and and ROC Curve for this new model with balanced data. "
   ]
  },
  {
   "cell_type": "code",
   "execution_count": 13,
   "metadata": {
    "tags": []
   },
   "outputs": [
    {
     "name": "stdout",
     "output_type": "stream",
     "text": [
      "The model OOB score: 0.933\n",
      "Model accuracy: 0.877\n"
     ]
    },
    {
     "data": {
      "image/png": "[encoded data removed]",
      "text/plain": [
       "<Figure size 800x500 with 1 Axes>"
      ]
     },
     "metadata": {},
     "output_type": "display_data"
    }
   ],
   "source": [
    "# Train a Bagging Ensemble of Decision Trees\n",
    "bagging_up = BaggingClassifier(estimator = DecisionTreeClassifier(),\n",
    "                            n_estimators = 100, # Number of trees\n",
    "                            oob_score = True,\n",
    "                            bootstrap = True,\n",
    "                            random_state = 808)\n",
    "\n",
    "# Fit model with upsampled data\n",
    "bagging_up.fit(X_upsampled, y_upsampled)\n",
    "\n",
    "# Generate predictions\n",
    "bagging_pred_y_up = bagging_up.predict(X_test)\n",
    "\n",
    "# Out-of-Bag (OOB) Score\n",
    "oob_score_up = bagging_up.oob_score_\n",
    "\n",
    "# Model accuracy\n",
    "accuracy_up = accuracy_score(y_test, bagging_pred_y_up)\n",
    "\n",
    "print(f\"The model OOB score: {oob_score_up:.3f}\")\n",
    "print(f\"Model accuracy: {accuracy_up:.3f}\")\n",
    "\n",
    "# ROC Curve\n",
    "fpr_up, tpr_up, _ = roc_curve(y_test, bagging_up.predict_proba(X_test)[:, 1])\n",
    "roc_auc_up = auc(fpr_up, tpr_up)\n",
    "\n",
    "plt.figure(figsize=(8, 5))\n",
    "\n",
    "plt.plot(fpr_up, tpr_up, color='#709176', lw=2, label=f'Bagging (AUC = {roc_auc_up:.2f})')\n",
    "\n",
    "plt.title('ROC Curve from Upsampled Data')\n",
    "plt.xlabel('False Positive Rate')\n",
    "plt.ylabel('True Positive Rate')\n",
    "plt.legend(loc=\"lower right\")\n",
    "\n",
    "plt.show()"
   ]
  },
  {
   "cell_type": "markdown",
   "metadata": {},
   "source": [
    "How did this second model, trained on balanced data, do in comparison to the first on the accuracy and AUC metrics.  How should we interpret those results?  Did the upscaling prove useful?"
   ]
  },
  {
   "cell_type": "markdown",
   "metadata": {},
   "source": [
    "*The second model, trained on balance data, had a lower accuracy score compared to the first model, not trained on balanced data. In addition, the AUC score of the second model was not much better than the AUC score of the first model, and only moderately increased. In this instance, upscaling did not prove useful as the resulting classifications were less accurate and did not increase the AUC significantly.*"
   ]
  },
  {
   "cell_type": "markdown",
   "metadata": {},
   "source": [
    "### Step 8: Analyzing feature importance with permutation importance\n",
    "\n",
    "Understanding which bird traits contribute the most to our model’s predictions is crucial for interpreting results. We covered in lecture how the results of ensemble methods are harder to interpret than a single decision tree.  But we do have some tools to do it.  In this step, we will compute permutation importance, which measures the impact of each trait by shuffling its values and observing the effect on model performance. This will help us identify which functional traits—such as diet, body mass, or habitat breadth—play the biggest role in predicting whether a species is found in a subarid environment.\n",
    "\n",
    "Use `permutation_importance()` to calculate the importance values.  You'll need to pass it the model, the feature and target test data, and an n_repeats value of 10."
   ]
  },
  {
   "cell_type": "code",
   "execution_count": 14,
   "metadata": {
    "tags": []
   },
   "outputs": [
    {
     "name": "stdout",
     "output_type": "stream",
     "text": [
      "               Feature  Importance\n",
      "13      IncubationTime    0.019178\n",
      "15           EggLength    0.015068\n",
      "14          ClutchSize    0.005479\n",
      "19        MaxLongevity    0.004110\n",
      "16            EggWidth    0.001370\n",
      "12     MigratoryStatus    0.000000\n",
      "2   Diet_Invertebrates    0.000000\n",
      "3     Diet_Vertebrates    0.000000\n",
      "7          Diet_Plants    0.000000\n",
      "4          Diet_Fruits    0.000000\n",
      "6           Diet_Seeds    0.000000\n",
      "5         Diet_Flowers    0.000000\n",
      "18        NestingHabit    0.000000\n",
      "8           Diet_Other    0.000000\n",
      "0        AdultBodyMass   -0.001370\n",
      "9         TrophicLevel   -0.001370\n",
      "10       ActivityCycle   -0.002740\n",
      "1          DietBreadth   -0.009589\n",
      "11     ForagingStratum   -0.009589\n",
      "17             EggMass   -0.013699\n"
     ]
    }
   ],
   "source": [
    "# Calculate importance values\n",
    "importance = permutation_importance(bagging, X_test, y_test, n_repeats = 10, random_state=808)\n",
    "\n",
    "# Importance values\n",
    "importance_values = importance.importances_mean  \n",
    "\n",
    "# Combine with feature names\n",
    "importance_df = pd.DataFrame({\n",
    "    'Feature': X_test.columns,  \n",
    "    'Importance': importance_values\n",
    "})\n",
    "\n",
    "# Sort by importance value\n",
    "importance_df = importance_df.sort_values(by='Importance', ascending=False)\n",
    "\n",
    "print(importance_df)"
   ]
  },
  {
   "cell_type": "markdown",
   "metadata": {},
   "source": [
    "What features are most important in our model of species distribution?"
   ]
  },
  {
   "cell_type": "markdown",
   "metadata": {},
   "source": [
    "*The most important features in our model of species distribtution are `IncubationTime` and `EggLength`.*"
   ]
  }
 ],
 "metadata": {
  "kernelspec": {
   "display_name": "Anaconda 3 (EDS232)",
   "language": "python",
   "name": "ml-env"
  },
  "language_info": {
   "codemirror_mode": {
    "name": "ipython",
    "version": 3
   },
   "file_extension": ".py",
   "mimetype": "text/x-python",
   "name": "python",
   "nbconvert_exporter": "python",
   "pygments_lexer": "ipython3",
   "version": "3.10.16"
  }
 },
 "nbformat": 4,
 "nbformat_minor": 4
}

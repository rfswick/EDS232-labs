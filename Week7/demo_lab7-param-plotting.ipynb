{
 "cells": [
  {
   "cell_type": "code",
   "execution_count": 1,
   "id": "f404e08f-064b-40ba-83ad-8701c85c55d0",
   "metadata": {
    "tags": []
   },
   "outputs": [],
   "source": [
    "import numpy as np\n",
    "import xgboost as xgb\n",
    "import matplotlib.pyplot as plt\n",
    "import seaborn as sns\n",
    "import pandas as pd\n",
    "from sklearn.datasets import make_moons\n",
    "from sklearn.model_selection import train_test_split, RandomizedSearchCV\n",
    "from sklearn.preprocessing import StandardScaler\n",
    "from sklearn.metrics import accuracy_score\n",
    "from scipy.stats import uniform, randint\n",
    "\n",
    "# Generate a moons dataset\n",
    "X, y = make_moons(n_samples=1000, noise=0.2, random_state=808)\n",
    "\n",
    "# Split into training and test sets\n",
    "X_train, X_test, y_train, y_test = train_test_split(X,y,test_size=0.2, random_state=808)\n",
    "\n",
    "# Define XGBoost model\n",
    "model = xgb.XGBClassifier(eval_metric=\"logloss\", random_state=808)"
   ]
  },
  {
   "cell_type": "code",
   "execution_count": 2,
   "id": "edb45409-e6fc-4639-8526-79f636493327",
   "metadata": {
    "tags": []
   },
   "outputs": [],
   "source": [
    "# Define hyperparameter distributions\n",
    "param_dist = {\n",
    "    \"n_estimators\": randint(50, 300),\n",
    "    \"learning_rate\": uniform(0.01, 0.3),\n",
    "    \"max_depth\": randint(2, 10),\n",
    "    \"subsample\": uniform(0.5, 0.5), # uniform(start, range)\n",
    "    \"colsample_bytree\": uniform(0.5, 0.5)\n",
    "}\n",
    "\n",
    "# Set up RandomizedSearchCV\n",
    "random_search = RandomizedSearchCV(\n",
    "                                    model, \n",
    "                                    param_dist, \n",
    "                                    n_iter=20,\n",
    "                                    scoring=\"accuracy\",\n",
    "                                    cv=3,\n",
    "                                    verbose=1,\n",
    "                                    random_state=808)"
   ]
  },
  {
   "cell_type": "code",
   "execution_count": null,
   "id": "7962054d-8c90-4d36-8882-f3d54738f9b6",
   "metadata": {
    "tags": []
   },
   "outputs": [
    {
     "name": "stdout",
     "output_type": "stream",
     "text": [
      "Fitting 3 folds for each of 20 candidates, totalling 60 fits\n"
     ]
    }
   ],
   "source": [
    "# Run random search\n",
    "random_search.fit(X_train, y_train)\n",
    "\n",
    "# Get search results as a DataFrame\n",
    "results = pd.DataFrame(random_search.cv_results_)\n",
    "\n",
    "# Extract hyperparameters and accuracy\n",
    "params_to_plot = [\"param_learning_rate\", \"param_n_estimators\",\n",
    "                 \"param_max_depth\", \"param_subsample\",\n",
    "                 \"param_colsample_bytree\"]\n",
    "\n",
    "accuracy = results[\"mean_test_score\"]"
   ]
  },
  {
   "cell_type": "code",
   "execution_count": null,
   "id": "1d59cdd3",
   "metadata": {
    "tags": []
   },
   "outputs": [],
   "source": [
    "# Generate scatter plots for each hyperparameter vs. accuracy\n",
    "for param in params_to_plot:\n",
    "    sns.scatterplot(x=results[param], y=accuracy),\n",
    "    plt.title(f\"Effect of {param} on Model Accuracy\")\n",
    "    plt.show()"
   ]
  },
  {
   "cell_type": "code",
   "execution_count": null,
   "id": "d041e05c-2730-4054-b869-4ae5a58e0d46",
   "metadata": {},
   "outputs": [],
   "source": []
  }
 ],
 "metadata": {
  "kernelspec": {
   "display_name": "Anaconda 3 (EDS232)",
   "language": "python",
   "name": "ml-env"
  },
  "language_info": {
   "codemirror_mode": {
    "name": "ipython",
    "version": 3
   },
   "file_extension": ".py",
   "mimetype": "text/x-python",
   "name": "python",
   "nbconvert_exporter": "python",
   "pygments_lexer": "ipython3",
   "version": "3.10.16"
  }
 },
 "nbformat": 4,
 "nbformat_minor": 5
}

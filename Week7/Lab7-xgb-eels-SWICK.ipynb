{
 "cells": [
  {
   "cell_type": "markdown",
   "id": "b6e8c422-cc19-4d89-8f96-003c36cf7c33",
   "metadata": {},
   "source": [
    "## Lab 7: Eel Distribution Modeling with XGBoost\n",
    "\n",
    "**Reference Paper:** [Elith et al. (2008)](https://ucsb.box.com/s/6k7636wsbogdg3orarxrlowke0ounbic)\n",
    "\n",
    "In this lab, you will model the distribution of the eel species *Anguilla australis* using **boosted classification trees (BCTs)**, a machine learning technique that improves predictive performance by combining multiple decision trees. Elith et al. (2008) offered an early implementation of BRTs in an ecological setting to understand how environmental variables influence eel distribution.\n",
    "\n",
    "You will work with **two datasets**:\n",
    "1. **Training Data** – Used to build and evaluate your XGBoost model.\n",
    "2. **Evaluation Data** – Used to assess model performance on unseen data.\n",
    "\n",
    "To achieve the following objectives:\n",
    "- Train and fine-tune an **XGBoost** model for classification of species presence/absence data.\n",
    "- Compare your model’s performance to the approach used by Elith et al.\n",
    "\n",
    "\n",
    "**Wherever applicable in this lab, use a random state of 808.**"
   ]
  },
  {
   "cell_type": "markdown",
   "id": "ac39e743-8686-4f51-85ee-7c1925002f5f",
   "metadata": {},
   "source": [
    "### Step 0: Load libraries and data\n"
   ]
  },
  {
   "cell_type": "code",
   "execution_count": 1,
   "id": "dd687480-182a-4416-9cdd-10eb33d147d1",
   "metadata": {
    "tags": []
   },
   "outputs": [],
   "source": [
    "import pandas as pd\n",
    "from sklearn.model_selection import train_test_split,RandomizedSearchCV\n",
    "from sklearn.preprocessing import LabelEncoder\n",
    "import xgboost as xgb\n",
    "from xgboost import XGBClassifier\n",
    "from sklearn.metrics import roc_auc_score\n",
    "from scipy.stats import uniform, randint\n",
    "\n",
    "# Download the datasets\n",
    "model_data = pd.read_csv(\"data/model.data.csv\").drop(columns=['Site'])\n",
    "eval_data = pd.read_csv(\"data/eval.data.csv\")"
   ]
  },
  {
   "cell_type": "markdown",
   "id": "21e16c25",
   "metadata": {},
   "source": [
    "### Step 1:Initial Data Preprocessing\n",
    "Let's get started by preparing our data. `Angaus` will be our target variable(`y`), and all other variables will be our features (`X`). Then encode the categorical feature using `LabelEncoder()`. The final step will be a bit different this time.  We don't need to split off testing data for the final model evaluation; a separate set (`eval_data`) will be used as in Elith et al.  We do, however, need to split our data in order to do the early stopping process. When splitting your data into training and validation, use a test size of 0.2 and a random state of 808. "
   ]
  },
  {
   "cell_type": "code",
   "execution_count": 2,
   "id": "92f8a3c0",
   "metadata": {
    "tags": []
   },
   "outputs": [],
   "source": [
    "# LabelEncoder\n",
    "le = LabelEncoder()\n",
    "\n",
    "# For the categorical column `Method`, apply LabelEncoder\n",
    "model_data['Method'] = le.fit_transform(model_data['Method'])\n",
    "\n",
    "# Define features and target\n",
    "X = model_data.drop(columns=['Angaus'])\n",
    "y = model_data['Angaus']"
   ]
  },
  {
   "cell_type": "code",
   "execution_count": 3,
   "id": "29ec5b69",
   "metadata": {},
   "outputs": [],
   "source": [
    "# Split data for early stopping process\n",
    "X_train, X_test, y_train, y_test = train_test_split(X, y, test_size=0.2, random_state=808)"
   ]
  },
  {
   "cell_type": "markdown",
   "id": "e025a34e",
   "metadata": {},
   "source": [
    "### Step 2: Determine best number of trees using early stopping\n",
    "As a guard against overfitting while maximizing performance, we use **early stopping**. We start with a large number of trees and allow XGBoost to determine the optimal number by stopping training when the validation error no longer improves.\n",
    "\n",
    "The choice of hyperparameter starting values is important in this process. We begin with:\n",
    "- `n_estimators=1000` to ensure the model has enough capacity to learn meaningful patterns.\n",
    "- `learning_rate=0.1` as a reasonable default that balances learning speed and performance.\n",
    "- `eval_metric=\"logloss\"` as the metric of performance to optimize.\n",
    "- `early_stopping_rounds=50` to halt training if no improvement is seen for 50 rounds, preventing unnecessary computations.\n",
    "- `random_state = 808`\n",
    "\n",
    "We then `fit()` our specified baseline model, passing in the training sets as usual and specifying validation sets values for the `eval_set` parameter.\n",
    "\n",
    "Finally, get and print the best number of trees from the fitted baseline model."
   ]
  },
  {
   "cell_type": "code",
   "execution_count": 4,
   "id": "55bf0fa0",
   "metadata": {
    "tags": []
   },
   "outputs": [],
   "source": [
    "# Define XGBoost model\n",
    "model = xgb.XGBClassifier(n_estimators = 1000, \n",
    "                          learning_rate = 0.1, \n",
    "                          eval_metric=\"logloss\", \n",
    "                          early_stopping_rounds = 50, \n",
    "                          random_state=808)"
   ]
  },
  {
   "cell_type": "code",
   "execution_count": 5,
   "id": "d3b73f3e",
   "metadata": {},
   "outputs": [
    {
     "name": "stdout",
     "output_type": "stream",
     "text": [
      "Best number of trees: 29\n"
     ]
    }
   ],
   "source": [
    "# Fit model\n",
    "model.fit(X_train, y_train, eval_set=[(X_test, y_test)], verbose = False)\n",
    "\n",
    "# Get and print the best number of trees\n",
    "print(f\"Best number of trees: {model.best_iteration}\")"
   ]
  },
  {
   "cell_type": "markdown",
   "id": "95ac1456",
   "metadata": {},
   "source": [
    "### Step 3: Tune Learning Rate\n",
    "\n",
    "The `learning_rate` hyperparameter controls how much each tree contributes to improving the model's performance. A *higher* learning rate allows the model to learn quickly but risks missing the optimal solution and overfitting, while a *lower* learning rate makes learning slower but can improve generalization.\n",
    "\n",
    "To find the optimal value, we'll use **randomized search cross-validation** (`RandomizedSearchCV`) to test different learning rates in the 0.01 to 0.3 range. Instead of testing every possible value, this method samples a set number of candidates (`n_iter`) from a defined parameter distribution.  In this case, sampling 20 candidates from a uniform distribution between `0.01` and `0.31`. Check out the [documentation](https://docs.scipy.org/doc/scipy/reference/generated/scipy.stats.uniform.html) on `scipy.stats.uniform` to see how it differs from `random.uniform`. Be sure to use a random state of 808.\n",
    "\n",
    "After using `RandomizedSearchCV`, fit your model. Print the best learning rate. \n"
   ]
  },
  {
   "cell_type": "code",
   "execution_count": 6,
   "id": "393b5c0b-b212-440b-a052-0c9a7e406b0f",
   "metadata": {
    "tags": []
   },
   "outputs": [],
   "source": [
    "# Initialize model with known best number of trees\n",
    "model_learn = xgb.XGBClassifier(n_estimators = model.best_iteration,\n",
    "                                eval_metric=\"logloss\",  \n",
    "                                random_state=808)\n",
    "\n",
    "# Define hyperparameter distribution for `learning_rate`\n",
    "param_learn = {\n",
    "    \"learning_rate\": uniform(0.01, 0.3)\n",
    "}\n",
    "\n",
    "# Set up RandomizedSearchCV\n",
    "random_search = RandomizedSearchCV(\n",
    "                                    model_learn, \n",
    "                                    param_learn, \n",
    "                                    n_iter=20,\n",
    "                                    scoring=\"accuracy\",\n",
    "                                    cv=3,\n",
    "                                    random_state=808)"
   ]
  },
  {
   "cell_type": "code",
   "execution_count": 7,
   "id": "29606dd1",
   "metadata": {},
   "outputs": [
    {
     "name": "stdout",
     "output_type": "stream",
     "text": [
      "Best learning rate: 0.07485\n"
     ]
    }
   ],
   "source": [
    "# Fit model\n",
    "random_search.fit(X_train, y_train)\n",
    "\n",
    "# Get and print the best learning rate\n",
    "print(f\"Best learning rate: {random_search.best_params_['learning_rate']:.5f}\")"
   ]
  },
  {
   "cell_type": "markdown",
   "id": "71907b11",
   "metadata": {},
   "source": [
    "### Step 4: Tune Tree-Specific Parameters\n",
    "\n",
    "Now that we've determined the best number of tree and learning rate, we need to tune the complexity of individual trees in our model. Initialize your model with the best number of trees and learning rate.Then, define a parameter dictionary that takes on the following values:  \n",
    "\n",
    "- `max_depth`(Controls how deep each tree can grow.  Takes integer values): A random integer from 3 to 10 ( inclusive of 3 and 10)\n",
    "- `min_child_weight`( Determines the minimum number of samples required in a leaf node. Takes integer values) : A random integer from 1 to 10 ( inclusive of 1 and 10)\n",
    "- `gamma` (Defines the minimum loss reduction needed to make a further split in a tree. Can take on values from a continuous range):  A uniform distribution from 0.05 to 0.10 - once again remember to check the `scipy.stats.uniform()` documentation! \n",
    "- `random_state = 808`\n",
    "\n",
    "To find the best combination, we again use `RandomizedSearchCV`, allowing us to efficiently sample hyperparameters and evaluate different configurations using cross-validation. After fitting the model, print the best parameters. \n",
    "\n"
   ]
  },
  {
   "cell_type": "code",
   "execution_count": 8,
   "id": "95c411a3",
   "metadata": {
    "tags": []
   },
   "outputs": [],
   "source": [
    "# Initialize model with known best number of trees and learning rate\n",
    "model_tune = xgb.XGBClassifier(n_estimators = model.best_iteration,\n",
    "                               learning_rate = random_search.best_params_['learning_rate'],\n",
    "                               eval_metric=\"logloss\",  \n",
    "                               random_state=808)\n",
    "\n",
    "# Define hyperparameter distributions\n",
    "param_dist_tune = {\n",
    "    \"max_depth\": randint(3, 10),\n",
    "    \"min_child_weight\": randint(1, 10),\n",
    "    \"gamma\": uniform(0.05, 0.05)\n",
    "}\n",
    "\n",
    "# Set up RandomizedSearchCV\n",
    "random_search_tune = RandomizedSearchCV(\n",
    "    model_tune, \n",
    "    param_dist_tune, \n",
    "    n_iter=20,\n",
    "    scoring=\"accuracy\",\n",
    "    cv=3,\n",
    "    random_state=808)"
   ]
  },
  {
   "cell_type": "code",
   "execution_count": 9,
   "id": "70571825",
   "metadata": {},
   "outputs": [
    {
     "name": "stdout",
     "output_type": "stream",
     "text": [
      "Best maximum depth: 7\n",
      "Best minimum child weight: 6\n",
      "Best gamma: 0.05534\n"
     ]
    }
   ],
   "source": [
    "# Fit model\n",
    "random_search_tune.fit(X_train, y_train)\n",
    "\n",
    "# Get and print the best parameter values\n",
    "print(f\"Best maximum depth: {random_search_tune.best_params_['max_depth']}\")\n",
    "print(f\"Best minimum child weight: {random_search_tune.best_params_['min_child_weight']}\")\n",
    "print(f\"Best gamma: {random_search_tune.best_params_['gamma']:.5f}\")"
   ]
  },
  {
   "cell_type": "markdown",
   "id": "2168bf81",
   "metadata": {},
   "source": [
    "### Step 5: Tune Stochastic Components\n",
    "\n",
    "Now, we are finally ready to tune the stochastic components of the XGBoost model.  These parameters help prevent overfitting by reducing correlation between trees. Initialize your model with the best number of trees, best learning rate,and your optimized tree values (**Note**: you can use \\**best_tree_parameters to unpack the the dictionary of optimzed tree values) .Then, define a parameter dictionary that takes on the following values:  \n",
    "\n",
    "- `subsample` (Controls the fraction of training samples used for each boosting round) : A uniform distribution between .5 and 1 (remember to check `scipy.stats.uniform()` documentation! )\n",
    "- `colsample_bytree`(Specifies the fraction of features to consider when building each tree) : A uniform distribution between .5 and 1\n",
    "- `random_state = 808`\n",
    "\n",
    "We again use `RandomizedSearchCV` to find the best combination of these parameters. After fitting the model, print the best parameters. \n"
   ]
  },
  {
   "cell_type": "code",
   "execution_count": null,
   "id": "ffd5773c",
   "metadata": {},
   "outputs": [],
   "source": [
    "# Initialize model with known best hyperparameter values\n",
    "model_stoch = xgb.XGBClassifier(n_estimators=model.best_iteration,\n",
    "                               learning_rate=random_search.best_params_['learning_rate'],\n",
    "                               max_depth=random_search_tune.best_params_['max_depth'],\n",
    "                               min_child_weight=random_search_tune.best_params_['min_child_weight'],\n",
    "                               gamma=random_search_tune.best_params_['gamma'],\n",
    "                               eval_metric=\"logloss\",  \n",
    "                               random_state=808)\n",
    "\n",
    "# Define hyperparameter distributions\n",
    "param_dist_stoch = {\n",
    "    \"subsample\": uniform(0.5, 0.5),\n",
    "    \"colsample_bytree\": uniform(0.5, 0.5)\n",
    "}\n",
    "\n",
    "# Set up RandomizedSearchCV\n",
    "random_search_stoch = RandomizedSearchCV(\n",
    "    model_stoch, \n",
    "    param_dist_stoch, \n",
    "    n_iter=20,\n",
    "    scoring=\"accuracy\",\n",
    "    cv=3,\n",
    "    random_state=808)"
   ]
  },
  {
   "cell_type": "code",
   "execution_count": null,
   "id": "c7d5ec06",
   "metadata": {},
   "outputs": [
    {
     "name": "stdout",
     "output_type": "stream",
     "text": [
      "Best subsample: 0.75650\n",
      "Best colsample_bytree: 0.85066\n"
     ]
    }
   ],
   "source": [
    "# Fit model\n",
    "random_search_stoch.fit(X_train, y_train)\n",
    "\n",
    "# Get and print the best hyperparameter values\n",
    "print(f\"Best subsample: {random_search_stoch.best_params_['subsample']:.5f}\")\n",
    "print(f\"Best colsample_bytree: {random_search_stoch.best_params_['colsample_bytree']:.5f}\")\n"
   ]
  },
  {
   "cell_type": "markdown",
   "id": "355cd2d2",
   "metadata": {},
   "source": [
    "### Step 6: Final Model Training and Evaluation\n",
    "\n",
    "With the best hyperparameters selected, we now train the final model on the full training dataset and evaluate it on the separate evaluation dataset.\n",
    "\n",
    "1. Prepare the evaluation data in the same manner as you did the training data\n",
    "\n",
    "2. Train final model using the best parameters found in previous tuning steps (`best_tree_params`, `best_stochastic_params`).Set  `eval_metric = \"logloss\"` \n",
    "\n",
    "3. Fit the model to the full training dataset and predict on the evaluation data \n"
   ]
  },
  {
   "cell_type": "code",
   "execution_count": 12,
   "id": "b68c8624-942b-4d1b-a665-77ca99685186",
   "metadata": {
    "scrolled": true,
    "tags": []
   },
   "outputs": [],
   "source": [
    "# For the categorical column `Method`, apply LabelEncoder\n",
    "eval_data['Method'] = le.fit_transform(eval_data['Method'])\n",
    "\n",
    "# Define features and target\n",
    "X_eval = eval_data.drop(columns=['Angaus_obs'])\n",
    "y_eval = eval_data['Angaus_obs']"
   ]
  },
  {
   "cell_type": "code",
   "execution_count": 13,
   "id": "fabe179e",
   "metadata": {},
   "outputs": [
    {
     "data": {
      "text/plain": [
       "array([0, 1, 0, 0, 0, 0, 1, 0, 0, 0, 0, 1, 0, 0, 1, 0, 0, 0, 1, 0, 0, 0,\n",
       "       0, 0, 0, 0, 0, 0, 0, 0, 0, 0, 1, 1, 0, 1, 0, 0, 0, 0, 0, 0, 0, 0,\n",
       "       0, 0, 0, 0, 0, 0, 0, 0, 0, 0, 0, 0, 0, 0, 0, 0, 0, 0, 0, 0, 1, 0,\n",
       "       0, 0, 0, 0, 0, 0, 1, 0, 1, 0, 1, 0, 0, 0, 0, 0, 0, 0, 1, 0, 0, 0,\n",
       "       0, 0, 0, 0, 0, 0, 0, 0, 0, 0, 0, 0, 0, 0, 0, 1, 0, 1, 0, 0, 0, 0,\n",
       "       0, 0, 0, 0, 0, 0, 0, 0, 0, 0, 0, 0, 0, 1, 0, 0, 0, 0, 0, 0, 0, 1,\n",
       "       0, 0, 0, 0, 0, 0, 0, 0, 0, 0, 0, 0, 0, 0, 0, 0, 0, 1, 0, 0, 0, 0,\n",
       "       0, 0, 0, 0, 0, 0, 0, 0, 0, 1, 0, 0, 0, 0, 0, 1, 0, 0, 0, 0, 0, 0,\n",
       "       0, 0, 1, 0, 0, 0, 1, 0, 1, 0, 0, 1, 1, 0, 0, 0, 0, 1, 0, 0, 0, 0,\n",
       "       0, 0, 1, 0, 0, 0, 1, 0, 0, 0, 0, 0, 0, 0, 0, 0, 0, 0, 0, 0, 0, 0,\n",
       "       0, 0, 0, 0, 0, 0, 0, 0, 0, 0, 1, 0, 0, 0, 0, 0, 0, 0, 0, 0, 0, 0,\n",
       "       0, 0, 0, 0, 1, 0, 0, 0, 0, 0, 0, 0, 1, 0, 0, 0, 0, 0, 0, 0, 0, 0,\n",
       "       0, 0, 0, 0, 0, 1, 0, 0, 0, 0, 0, 0, 0, 0, 0, 1, 0, 0, 1, 0, 0, 0,\n",
       "       0, 0, 0, 0, 1, 0, 1, 0, 0, 0, 0, 0, 0, 0, 1, 0, 0, 0, 0, 1, 1, 0,\n",
       "       1, 1, 0, 0, 0, 0, 0, 0, 0, 0, 0, 0, 0, 0, 0, 0, 1, 0, 0, 1, 0, 0,\n",
       "       0, 0, 0, 0, 0, 0, 0, 0, 0, 0, 0, 1, 0, 1, 0, 0, 0, 0, 0, 0, 0, 1,\n",
       "       0, 0, 0, 0, 0, 0, 0, 0, 0, 0, 1, 0, 0, 0, 0, 0, 0, 1, 1, 0, 0, 1,\n",
       "       0, 0, 1, 0, 0, 1, 0, 0, 1, 0, 0, 0, 0, 0, 0, 0, 0, 0, 1, 0, 0, 1,\n",
       "       0, 0, 0, 0, 1, 0, 1, 0, 0, 0, 1, 0, 0, 0, 0, 0, 0, 0, 0, 0, 0, 0,\n",
       "       1, 0, 0, 0, 0, 0, 1, 0, 0, 0, 1, 0, 0, 0, 1, 0, 0, 0, 0, 0, 0, 0,\n",
       "       0, 0, 1, 0, 0, 0, 0, 0, 0, 0, 0, 0, 1, 0, 0, 0, 0, 0, 0, 0, 0, 0,\n",
       "       0, 0, 1, 1, 1, 0, 0, 1, 0, 0, 1, 0, 0, 0, 1, 0, 0, 0, 0, 0, 0, 0,\n",
       "       1, 0, 0, 0, 0, 0, 0, 1, 0, 0, 0, 1, 0, 0, 0, 0])"
      ]
     },
     "execution_count": 13,
     "metadata": {},
     "output_type": "execute_result"
    }
   ],
   "source": [
    "model_best = xgb.XGBClassifier(n_estimators=model.best_iteration,\n",
    "                               learning_rate=random_search.best_params_['learning_rate'],\n",
    "                               max_depth=random_search_tune.best_params_['max_depth'],\n",
    "                               min_child_weight=random_search_tune.best_params_['min_child_weight'],\n",
    "                               gamma=random_search_tune.best_params_['gamma'],\n",
    "                               subsample=random_search_stoch.best_params_['subsample'],\n",
    "                               colsample_bytree=random_search_stoch.best_params_['colsample_bytree'],\n",
    "                               eval_metric=\"logloss\",  \n",
    "                               random_state=808)\n",
    "\n",
    "# Train model using the best parameters\n",
    "model_best.fit(X, y)\n",
    "\n",
    "# Predict using the evaluation data\n",
    "model_best.predict(X_eval)"
   ]
  },
  {
   "cell_type": "markdown",
   "id": "1f39d80a",
   "metadata": {},
   "source": [
    "### Step 7: Model Performance\n",
    "\n",
    "Compute and print the AUC and feature importances for your model."
   ]
  },
  {
   "cell_type": "code",
   "execution_count": 14,
   "id": "cc9df468",
   "metadata": {
    "tags": []
   },
   "outputs": [
    {
     "name": "stdout",
     "output_type": "stream",
     "text": [
      "AUC: 0.87491\n"
     ]
    }
   ],
   "source": [
    "# Predict probability for the positive class\n",
    "y_pred_proba = model_best.predict_proba(X_eval)[:, 1]  \n",
    "\n",
    "# Compute the AUC \n",
    "auc = roc_auc_score(y_eval, y_pred_proba)  \n",
    "print(f\"AUC: {auc:.5f}\")\n"
   ]
  },
  {
   "cell_type": "code",
   "execution_count": 15,
   "id": "b41268d7",
   "metadata": {},
   "outputs": [
    {
     "name": "stdout",
     "output_type": "stream",
     "text": [
      "Feature Importances:\n",
      "SegSumT: 0.2582\n",
      "SegTSeas: 0.0523\n",
      "SegLowFlow: 0.0549\n",
      "DSDist: 0.0476\n",
      "DSMaxSlope: 0.0706\n",
      "USAvgT: 0.0673\n",
      "USRainDays: 0.0894\n",
      "USSlope: 0.0718\n",
      "USNative: 0.0907\n",
      "DSDam: 0.0000\n",
      "Method: 0.1418\n",
      "LocSed: 0.0553\n"
     ]
    }
   ],
   "source": [
    "# Alternatively, if you want the importances as a dictionary:\n",
    "feat_import = model_best.feature_importances_\n",
    "print(\"Feature Importances:\")\n",
    "for feature, importance in zip(X_eval.columns, feat_import):\n",
    "    print(f\"{feature}: {importance:.4f}\")"
   ]
  },
  {
   "cell_type": "markdown",
   "id": "7476ef1d",
   "metadata": {},
   "source": [
    "### Step 8: The comparison\n",
    "How does your model's performance compare to the of Elith et al. (See Tables 2 and 3)?  Is there another way to compare the models in addition to predictive performance?  Whose model wins in that regard?"
   ]
  },
  {
   "cell_type": "markdown",
   "id": "07dc2a69-bf1e-4442-ad9e-22dc26e0f2b3",
   "metadata": {
    "tags": []
   },
   "source": [
    "*In terms of AUC values, my model's performance is quite similar to that of Elith et al. My model had an AUC of 0.87491, while Elith et al had an AUC of 0.869. Given the similar AUCs between the two models, it would insinuate that the two models have similar predicitive performance. In addition to predictive performance, you can also compare how computaionally expensive two models are. My model only uses 29 trees, while Elith et al uses 1050 in their model. That means their model takes up considerably more computational power and would be considered more computationally exspensive. Considering the two models deliver a similar predictive performance, my model would win out by being less computationally demanding.*"
   ]
  },
  {
   "cell_type": "markdown",
   "id": "bd24dfd4",
   "metadata": {},
   "source": []
  }
 ],
 "metadata": {
  "kernelspec": {
   "display_name": "Python 3 (ipykernel)",
   "language": "python",
   "name": "python3"
  },
  "language_info": {
   "codemirror_mode": {
    "name": "ipython",
    "version": 3
   },
   "file_extension": ".py",
   "mimetype": "text/x-python",
   "name": "python",
   "nbconvert_exporter": "python",
   "pygments_lexer": "ipython3",
   "version": "3.7.13"
  }
 },
 "nbformat": 4,
 "nbformat_minor": 5
}

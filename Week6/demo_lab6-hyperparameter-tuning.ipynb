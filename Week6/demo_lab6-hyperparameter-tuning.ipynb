{
 "cells": [
  {
   "cell_type": "code",
   "execution_count": 1,
   "id": "ce384162",
   "metadata": {
    "tags": []
   },
   "outputs": [],
   "source": [
    "import mglearn\n",
    "import pandas as pd\n",
    "from sklearn.model_selection import train_test_split, GridSearchCV\n",
    "from sklearn.ensemble import RandomForestClassifier\n",
    "import numpy as np\n",
    "import seaborn as sns\n",
    "import matplotlib.pyplot as plt"
   ]
  },
  {
   "cell_type": "code",
   "execution_count": 2,
   "id": "6acea156",
   "metadata": {
    "scrolled": true,
    "tags": []
   },
   "outputs": [
    {
     "data": {
      "text/plain": [
       "<module 'mglearn.plots' from '/opt/anaconda3/envs/ml-env/lib/python3.10/site-packages/mglearn/plots.py'>"
      ]
     },
     "execution_count": 2,
     "metadata": {},
     "output_type": "execute_result"
    }
   ],
   "source": [
    "mglearn.plots"
   ]
  },
  {
   "cell_type": "code",
   "execution_count": 3,
   "id": "1303de63",
   "metadata": {
    "tags": []
   },
   "outputs": [],
   "source": [
    "dat = pd.read_csv(\"/courses/EDS232/Data/demo-spotify.csv\")"
   ]
  },
  {
   "cell_type": "markdown",
   "id": "5ec92506",
   "metadata": {},
   "source": [
    "For GridSearchCV we need an instantiated model and parameter grid\n",
    "\n",
    "The method considers product of the sets and evaluates each combination one by one.\n",
    "\n",
    "The standard preparation:"
   ]
  },
  {
   "cell_type": "code",
   "execution_count": 4,
   "id": "ad6946c7",
   "metadata": {
    "tags": []
   },
   "outputs": [],
   "source": [
    "# Define features and target\n",
    "X = dat.drop(columns=['genre'])\n",
    "y = dat['genre']\n",
    "\n",
    "# Check for non-numeric columns\n",
    "non_numeric_cols = X.select_dtypes(include=['object']).columns\n",
    "\n",
    "# Drop non-numeric columns\n",
    "X = X.drop(columns=non_numeric_cols)\n",
    "\n",
    "# Train-test split\n",
    "X_train, X_test, y_train, y_test = train_test_split(X, y, test_size=0.3, random_state=808)\n",
    "\n",
    "rf = RandomForestClassifier()"
   ]
  },
  {
   "cell_type": "code",
   "execution_count": null,
   "id": "9b164015",
   "metadata": {},
   "outputs": [],
   "source": [
    "Now we will construct our parameter grid"
   ]
  },
  {
   "cell_type": "code",
   "execution_count": 5,
   "id": "23bc0b0c",
   "metadata": {
    "tags": []
   },
   "outputs": [],
   "source": [
    "param_grid = {\n",
    "    \"n_estimators\": [10, 50, 100, 200],\n",
    "    \"max_depth\": [5, 10, 20, None],\n",
    "    \"max_features\": [\"sqrt\", 9, None]\n",
    "}\n",
    "\n",
    "gs = GridSearchCV(rf, param_grid = param_grid, n_jobs=-1, return_train_score = True)"
   ]
  },
  {
   "cell_type": "markdown",
   "id": "e107d031",
   "metadata": {},
   "source": [
    "The GridSearchCV object above behaves like a classifier. We can call fit, predict or score on it."
   ]
  },
  {
   "cell_type": "code",
   "execution_count": 14,
   "id": "d49846b2",
   "metadata": {
    "tags": []
   },
   "outputs": [
    {
     "data": {
      "text/html": [
       "<style>#sk-container-id-2 {color: black;}#sk-container-id-2 pre{padding: 0;}#sk-container-id-2 div.sk-toggleable {background-color: white;}#sk-container-id-2 label.sk-toggleable__label {cursor: pointer;display: block;width: 100%;margin-bottom: 0;padding: 0.3em;box-sizing: border-box;text-align: center;}#sk-container-id-2 label.sk-toggleable__label-arrow:before {content: \"▸\";float: left;margin-right: 0.25em;color: #696969;}#sk-container-id-2 label.sk-toggleable__label-arrow:hover:before {color: black;}#sk-container-id-2 div.sk-estimator:hover label.sk-toggleable__label-arrow:before {color: black;}#sk-container-id-2 div.sk-toggleable__content {max-height: 0;max-width: 0;overflow: hidden;text-align: left;background-color: #f0f8ff;}#sk-container-id-2 div.sk-toggleable__content pre {margin: 0.2em;color: black;border-radius: 0.25em;background-color: #f0f8ff;}#sk-container-id-2 input.sk-toggleable__control:checked~div.sk-toggleable__content {max-height: 200px;max-width: 100%;overflow: auto;}#sk-container-id-2 input.sk-toggleable__control:checked~label.sk-toggleable__label-arrow:before {content: \"▾\";}#sk-container-id-2 div.sk-estimator input.sk-toggleable__control:checked~label.sk-toggleable__label {background-color: #d4ebff;}#sk-container-id-2 div.sk-label input.sk-toggleable__control:checked~label.sk-toggleable__label {background-color: #d4ebff;}#sk-container-id-2 input.sk-hidden--visually {border: 0;clip: rect(1px 1px 1px 1px);clip: rect(1px, 1px, 1px, 1px);height: 1px;margin: -1px;overflow: hidden;padding: 0;position: absolute;width: 1px;}#sk-container-id-2 div.sk-estimator {font-family: monospace;background-color: #f0f8ff;border: 1px dotted black;border-radius: 0.25em;box-sizing: border-box;margin-bottom: 0.5em;}#sk-container-id-2 div.sk-estimator:hover {background-color: #d4ebff;}#sk-container-id-2 div.sk-parallel-item::after {content: \"\";width: 100%;border-bottom: 1px solid gray;flex-grow: 1;}#sk-container-id-2 div.sk-label:hover label.sk-toggleable__label {background-color: #d4ebff;}#sk-container-id-2 div.sk-serial::before {content: \"\";position: absolute;border-left: 1px solid gray;box-sizing: border-box;top: 0;bottom: 0;left: 50%;z-index: 0;}#sk-container-id-2 div.sk-serial {display: flex;flex-direction: column;align-items: center;background-color: white;padding-right: 0.2em;padding-left: 0.2em;position: relative;}#sk-container-id-2 div.sk-item {position: relative;z-index: 1;}#sk-container-id-2 div.sk-parallel {display: flex;align-items: stretch;justify-content: center;background-color: white;position: relative;}#sk-container-id-2 div.sk-item::before, #sk-container-id-2 div.sk-parallel-item::before {content: \"\";position: absolute;border-left: 1px solid gray;box-sizing: border-box;top: 0;bottom: 0;left: 50%;z-index: -1;}#sk-container-id-2 div.sk-parallel-item {display: flex;flex-direction: column;z-index: 1;position: relative;background-color: white;}#sk-container-id-2 div.sk-parallel-item:first-child::after {align-self: flex-end;width: 50%;}#sk-container-id-2 div.sk-parallel-item:last-child::after {align-self: flex-start;width: 50%;}#sk-container-id-2 div.sk-parallel-item:only-child::after {width: 0;}#sk-container-id-2 div.sk-dashed-wrapped {border: 1px dashed gray;margin: 0 0.4em 0.5em 0.4em;box-sizing: border-box;padding-bottom: 0.4em;background-color: white;}#sk-container-id-2 div.sk-label label {font-family: monospace;font-weight: bold;display: inline-block;line-height: 1.2em;}#sk-container-id-2 div.sk-label-container {text-align: center;}#sk-container-id-2 div.sk-container {/* jupyter's `normalize.less` sets `[hidden] { display: none; }` but bootstrap.min.css set `[hidden] { display: none !important; }` so we also need the `!important` here to be able to override the default hidden behavior on the sphinx rendered scikit-learn.org. See: https://github.com/scikit-learn/scikit-learn/issues/21755 */display: inline-block !important;position: relative;}#sk-container-id-2 div.sk-text-repr-fallback {display: none;}</style><div id=\"sk-container-id-2\" class=\"sk-top-container\"><div class=\"sk-text-repr-fallback\"><pre>GridSearchCV(estimator=RandomForestClassifier(), n_jobs=-1,\n",
       "             param_grid={&#x27;max_depth&#x27;: [5, 10, 20, None],\n",
       "                         &#x27;max_features&#x27;: [&#x27;sqrt&#x27;, 9, None],\n",
       "                         &#x27;n_estimators&#x27;: [10, 50, 100, 200]},\n",
       "             return_train_score=True)</pre><b>In a Jupyter environment, please rerun this cell to show the HTML representation or trust the notebook. <br />On GitHub, the HTML representation is unable to render, please try loading this page with nbviewer.org.</b></div><div class=\"sk-container\" hidden><div class=\"sk-item sk-dashed-wrapped\"><div class=\"sk-label-container\"><div class=\"sk-label sk-toggleable\"><input class=\"sk-toggleable__control sk-hidden--visually\" id=\"sk-estimator-id-4\" type=\"checkbox\" ><label for=\"sk-estimator-id-4\" class=\"sk-toggleable__label sk-toggleable__label-arrow\">GridSearchCV</label><div class=\"sk-toggleable__content\"><pre>GridSearchCV(estimator=RandomForestClassifier(), n_jobs=-1,\n",
       "             param_grid={&#x27;max_depth&#x27;: [5, 10, 20, None],\n",
       "                         &#x27;max_features&#x27;: [&#x27;sqrt&#x27;, 9, None],\n",
       "                         &#x27;n_estimators&#x27;: [10, 50, 100, 200]},\n",
       "             return_train_score=True)</pre></div></div></div><div class=\"sk-parallel\"><div class=\"sk-parallel-item\"><div class=\"sk-item\"><div class=\"sk-label-container\"><div class=\"sk-label sk-toggleable\"><input class=\"sk-toggleable__control sk-hidden--visually\" id=\"sk-estimator-id-5\" type=\"checkbox\" ><label for=\"sk-estimator-id-5\" class=\"sk-toggleable__label sk-toggleable__label-arrow\">estimator: RandomForestClassifier</label><div class=\"sk-toggleable__content\"><pre>RandomForestClassifier()</pre></div></div></div><div class=\"sk-serial\"><div class=\"sk-item\"><div class=\"sk-estimator sk-toggleable\"><input class=\"sk-toggleable__control sk-hidden--visually\" id=\"sk-estimator-id-6\" type=\"checkbox\" ><label for=\"sk-estimator-id-6\" class=\"sk-toggleable__label sk-toggleable__label-arrow\">RandomForestClassifier</label><div class=\"sk-toggleable__content\"><pre>RandomForestClassifier()</pre></div></div></div></div></div></div></div></div></div></div>"
      ],
      "text/plain": [
       "GridSearchCV(estimator=RandomForestClassifier(), n_jobs=-1,\n",
       "             param_grid={'max_depth': [5, 10, 20, None],\n",
       "                         'max_features': ['sqrt', 9, None],\n",
       "                         'n_estimators': [10, 50, 100, 200]},\n",
       "             return_train_score=True)"
      ]
     },
     "execution_count": 14,
     "metadata": {},
     "output_type": "execute_result"
    }
   ],
   "source": [
    "# Carry out the search \n",
    "gs.fit(X_train, y_train)"
   ]
  },
  {
   "cell_type": "code",
   "execution_count": 11,
   "id": "305e0840",
   "metadata": {
    "tags": []
   },
   "outputs": [
    {
     "data": {
      "text/plain": [
       "{'max_depth': None, 'max_features': 'sqrt', 'n_estimators': 200}"
      ]
     },
     "execution_count": 11,
     "metadata": {},
     "output_type": "execute_result"
    }
   ],
   "source": [
    "# Get the best hyperparameter values\n",
    "gs.best_params_"
   ]
  },
  {
   "cell_type": "markdown",
   "id": "f4325bb1",
   "metadata": {},
   "source": [
    "It is often helpful to visualize results of all cross-validation experiments.\n",
    "You can access this information using cv_results_ attribute of a fitted GridSearchCV object."
   ]
  },
  {
   "cell_type": "code",
   "execution_count": 12,
   "id": "fc96c04d",
   "metadata": {
    "scrolled": true,
    "tags": []
   },
   "outputs": [],
   "source": [
    "results = pd.DataFrame(gs.cv_results_)"
   ]
  },
  {
   "cell_type": "markdown",
   "id": "6dfc7b61",
   "metadata": {},
   "source": [
    "Let's look at only the most relevant rows"
   ]
  },
  {
   "cell_type": "code",
   "execution_count": 13,
   "id": "b5b247ce",
   "metadata": {
    "tags": []
   },
   "outputs": [],
   "source": [
    "# Select relevant columns\n",
    "filtered_results = pd.DataFrame(gs.cv_results_)[\n",
    "    [\n",
    "        \"mean_test_score\",\n",
    "        \"param_n_estimators\",   # Number of trees\n",
    "        \"param_max_depth\",      # Max depth of trees\n",
    "        \"param_max_features\",   # Feature selection per split\n",
    "        \"mean_fit_time\",        # Time taken to fit the model\n",
    "        \"rank_test_score\",      # Rank of the best score\n",
    "    ]\n",
    "].set_index(\"rank_test_score\").sort_index().T"
   ]
  },
  {
   "cell_type": "markdown",
   "id": "58f03abb",
   "metadata": {},
   "source": [
    "Other than searching for best hyperparameter values, GridSearchCV also fits a new model on the whole training set with the parameters that yielded the best results.\n",
    "So we can conveniently call score on the test set with a fitted GridSearchCV object."
   ]
  },
  {
   "cell_type": "code",
   "execution_count": null,
   "id": "9ebcf532",
   "metadata": {},
   "outputs": [],
   "source": [
    "# Best score\n",
    "\n",
    "# Get the test scores \n"
   ]
  },
  {
   "cell_type": "markdown",
   "id": "2fd4b852",
   "metadata": {},
   "source": [
    "Why are best_score_ and the score above different?\n",
    "\n"
   ]
  },
  {
   "cell_type": "markdown",
   "id": "8f1f2c4a",
   "metadata": {},
   "source": [
    "Visualizing parameters as heat "
   ]
  },
  {
   "cell_type": "code",
   "execution_count": 9,
   "id": "ba821b7d",
   "metadata": {
    "tags": []
   },
   "outputs": [
    {
     "data": {
      "image/png": "[encoded data removed]",
      "text/plain": [
       "<Figure size 1000x600 with 2 Axes>"
      ]
     },
     "metadata": {},
     "output_type": "display_data"
    }
   ],
   "source": [
    "def display_heatmap(param_grid, model, X_train, y_train):\n",
    "   \n",
    "    grid_search = GridSearchCV(\n",
    "        model, param_grid, cv=5, n_jobs=-1, return_train_score=True, scoring=\"accuracy\"\n",
    "    )\n",
    "    \n",
    "    # Fit the model\n",
    "    grid_search.fit(X_train, y_train)\n",
    "    \n",
    "    # Convert results to DataFrame\n",
    "    results = pd.DataFrame(grid_search.cv_results_)\n",
    "\n",
    "    # Extract parameter names dynamically\n",
    "    param_x, param_y = list(param_grid.keys())\n",
    "\n",
    "    # Reshape test scores into a 2D array for heatmap\n",
    "    scores = results.pivot(index=f\"param_{param_y}\", columns=f\"param_{param_x}\", values=\"mean_test_score\")\n",
    "\n",
    "    # Plot the heatmap\n",
    "    plt.figure(figsize=(10, 6))\n",
    "    sns.heatmap(scores, annot=True, fmt=\".3f\", cmap=\"coolwarm\")\n",
    "    plt.xlabel(param_x)\n",
    "    plt.ylabel(param_y)\n",
    "    plt.title(f\"Grid Search Heatmap ({param_x} vs. {param_y})\")\n",
    "    plt.show()\n",
    "\n",
    "# Define the hyperparameter grid for max_depth vs. n_estimators\n",
    "param_grid1 = {\n",
    "    \"max_depth\": [1,2,4,8,16],\n",
    "    \"n_estimators\": [10,50,100,200]\n",
    "}\n",
    "\n",
    "\n",
    "# Call the function\n",
    "display_heatmap(param_grid1, rf, X_train, y_train)"
   ]
  },
  {
   "cell_type": "markdown",
   "id": "9bf517c4",
   "metadata": {},
   "source": [
    "A key problem with exhaustive grid search is the required number of models to evaluate grows exponentially with the dimensionally of the configuration space.\n",
    "\n",
    "For future discussion:\n",
    "sklearn.model_selection.RandomizedSearchCV\n",
    "Samples configurations at random until certain budget (e.g., time) is exhausted."
   ]
  }
 ],
 "metadata": {
  "kernelspec": {
   "display_name": "Anaconda 3 (EDS232)",
   "language": "python",
   "name": "ml-env"
  },
  "language_info": {
   "codemirror_mode": {
    "name": "ipython",
    "version": 3
   },
   "file_extension": ".py",
   "mimetype": "text/x-python",
   "name": "python",
   "nbconvert_exporter": "python",
   "pygments_lexer": "ipython3",
   "version": "3.10.16"
  }
 },
 "nbformat": 4,
 "nbformat_minor": 5
}

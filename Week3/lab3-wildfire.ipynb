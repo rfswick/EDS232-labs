{
 "cells": [
  {
   "cell_type": "code",
   "execution_count": 1,
   "id": "6d41e7de-5f0c-4baf-a37f-ec5dbe4f7428",
   "metadata": {
    "tags": []
   },
   "outputs": [],
   "source": [
    "# Imports\n",
    "import pandas as pd\n",
    "import numpy as np\n",
    "import seaborn as sns\n",
    "from sklearn.model_selection import train_test_split\n",
    "from sklearn.preprocessing import StandardScaler\n",
    "from sklearn.linear_model import LogisticRegression\n",
    "from sklearn.dummy import DummyClassifier\n",
    "from sklearn.metrics import accuracy_score, confusion_matrix, classification_report, roc_curve, roc_auc_score, ConfusionMatrixDisplay, auc\n",
    "import matplotlib.pyplot as plt\n"
   ]
  },
  {
   "cell_type": "markdown",
   "id": "e492775e-957c-40b4-b64f-5de93dbea5e1",
   "metadata": {},
   "source": [
    "# Lab 3: Fire and Tree Mortality\n",
    "\n",
    "# About the data\n",
    "Wildfires are increasingly frequent and severe due to climate change. Predicting tree mortality following a wildfire is critical for forest management, ecosystem recovery, and carbon sequestration planning. In this lab, we will build a logistic regression model to predict the probability of tree mortality one year after a wildfire\n",
    "\n",
    "The database we'll be working with today includes observations of individual trees involved in prescribed fires and wildfires occurring over 35 years, from 1981 to 2016. It is drawn from a fire and tree mortality database from the US Forest Service (see data description for the full database here: [link](https://www.nature.com/articles/s41597-020-0522-7#Sec10)).\n",
    "\n",
    "The target variable we'll use is `yr1status`, which is a binary variable (0=alive, 1=dead).  This tells us if a tree has died one year after a fire event.\n",
    "\n",
    "The features we'll use are `YrFireName`, `Times_burned`, `Species`, `Genus_species`,\n",
    "    `DBH_cm`, `HT_m`, `CR_pre`, and `CR_post`."
   ]
  },
  {
   "cell_type": "markdown",
   "id": "8f2c5ce6-eb43-4544-8b88-c306a7618c85",
   "metadata": {},
   "source": [
    "## Step 1: Check the metadata\n",
    "\n",
    "Look at the metadata and provide a description on what each variable represents in the Description column below.\n"
   ]
  },
  {
   "cell_type": "markdown",
   "id": "c7b239ac-123f-4458-bf2c-fc46dcf5cc0a",
   "metadata": {},
   "source": [
    "| Feature                     | Description                                                                                   |\n",
    "|-----------------------------|-----------------------------------------------------------------------------------------------| \n",
    "| yr1status                   | Tree status in year 1 post-fire. (0=alive, 1=dead).\n",
    "| YrFireName                  | A unique identifier for each fire event that includes the year of the fire and the fire name                                  \n",
    "| Times_burned                | The number of times this tree was burned.                                            \n",
    "| Species                     | Symbol for species. First two letters of genus and first two letters of species, sometimes followed by a number.                                                    \n",
    "| Genus_species               | Genus and species of tree.                                     \n",
    "| DBH_cm                      | Diameter at breast height rounded to nearest 0.1 cm (cm = centimeters).\n",
    "| HT_m                        | Pre-fire tree height rounded to nearest 0.01 m (m=meters). \n",
    "| CR_pre                      | Pre-fire live crown ratio. Crown length divided by tree height (proportion rounded to nearest 0.01).\n",
    "| CR_post                     | Post-fire live crown ratio. Crown length divided by tree height (proportion rounded to nearest 0.01). "
   ]
  },
  {
   "cell_type": "markdown",
   "id": "55d355a0",
   "metadata": {},
   "source": [
    "## Step 2: Fetch  data\n",
    "Read in the data set and filter to retain only the variables of interest.  Then check for incomplete observations and remove any rows containing NaNs.  How many observations does that leave us with? **Print your answer.**"
   ]
  },
  {
   "cell_type": "code",
   "execution_count": 2,
   "id": "ac926dc2",
   "metadata": {
    "tags": []
   },
   "outputs": [
    {
     "name": "stdout",
     "output_type": "stream",
     "text": [
      "Number of Remaining Observations: 36509\n"
     ]
    },
    {
     "name": "stderr",
     "output_type": "stream",
     "text": [
      "/tmp/ipykernel_2063619/2331702603.py:2: DtypeWarning: Columns (4,5,6,7,10,62,63) have mixed types. Specify dtype option on import or set low_memory=False.\n",
      "  trees_dat = (pd.read_csv('/courses/EDS232/Data/FTM_trees.csv')[[\"yr1status\",\n"
     ]
    }
   ],
   "source": [
    "# Load the dataset\n",
    "trees_dat = (pd.read_csv('/courses/EDS232/Data/FTM_trees.csv')[[\"yr1status\", \n",
    "                                                                \"YrFireName\", \n",
    "                                                                \"Times_burned\", \n",
    "                                                                \"Species\", \n",
    "                                                                \"Genus\", \n",
    "                                                                \"DBH_cm\", \n",
    "                                                                \"HT_m\", \n",
    "                                                                \"CR_pre\", \n",
    "                                                                \"CR_post\"]]\n",
    "               .dropna())\n",
    "print(f\"Number of Remaining Observations: {trees_dat.shape[0]}\")"
   ]
  },
  {
   "cell_type": "code",
   "execution_count": 3,
   "id": "ba8265dc-430b-48b4-9957-9e210d82c6bf",
   "metadata": {
    "tags": []
   },
   "outputs": [
    {
     "data": {
      "text/html": [
       "<div>\n",
       "<style scoped>\n",
       "    .dataframe tbody tr th:only-of-type {\n",
       "        vertical-align: middle;\n",
       "    }\n",
       "\n",
       "    .dataframe tbody tr th {\n",
       "        vertical-align: top;\n",
       "    }\n",
       "\n",
       "    .dataframe thead th {\n",
       "        text-align: right;\n",
       "    }\n",
       "</style>\n",
       "<table border=\"1\" class=\"dataframe\">\n",
       "  <thead>\n",
       "    <tr style=\"text-align: right;\">\n",
       "      <th></th>\n",
       "      <th>yr1status</th>\n",
       "      <th>YrFireName</th>\n",
       "      <th>Times_burned</th>\n",
       "      <th>Species</th>\n",
       "      <th>Genus</th>\n",
       "      <th>DBH_cm</th>\n",
       "      <th>HT_m</th>\n",
       "      <th>CR_pre</th>\n",
       "      <th>CR_post</th>\n",
       "    </tr>\n",
       "  </thead>\n",
       "  <tbody>\n",
       "    <tr>\n",
       "      <th>500</th>\n",
       "      <td>0.0</td>\n",
       "      <td>2003 - Griff</td>\n",
       "      <td>1</td>\n",
       "      <td>ABAM</td>\n",
       "      <td>Abies</td>\n",
       "      <td>71.374</td>\n",
       "      <td>41.76</td>\n",
       "      <td>0.84</td>\n",
       "      <td>0.74</td>\n",
       "    </tr>\n",
       "    <tr>\n",
       "      <th>501</th>\n",
       "      <td>0.0</td>\n",
       "      <td>2003 - Griff</td>\n",
       "      <td>1</td>\n",
       "      <td>ABAM</td>\n",
       "      <td>Abies</td>\n",
       "      <td>23.622</td>\n",
       "      <td>12.80</td>\n",
       "      <td>0.60</td>\n",
       "      <td>0.57</td>\n",
       "    </tr>\n",
       "    <tr>\n",
       "      <th>502</th>\n",
       "      <td>0.0</td>\n",
       "      <td>2003 - Griff</td>\n",
       "      <td>1</td>\n",
       "      <td>ABAM</td>\n",
       "      <td>Abies</td>\n",
       "      <td>46.228</td>\n",
       "      <td>34.75</td>\n",
       "      <td>0.75</td>\n",
       "      <td>0.59</td>\n",
       "    </tr>\n",
       "    <tr>\n",
       "      <th>503</th>\n",
       "      <td>0.0</td>\n",
       "      <td>2003 - Griff</td>\n",
       "      <td>1</td>\n",
       "      <td>ABAM</td>\n",
       "      <td>Abies</td>\n",
       "      <td>21.082</td>\n",
       "      <td>23.16</td>\n",
       "      <td>0.38</td>\n",
       "      <td>0.38</td>\n",
       "    </tr>\n",
       "    <tr>\n",
       "      <th>504</th>\n",
       "      <td>0.0</td>\n",
       "      <td>2003 - Griff</td>\n",
       "      <td>1</td>\n",
       "      <td>ABAM</td>\n",
       "      <td>Abies</td>\n",
       "      <td>24.384</td>\n",
       "      <td>26.21</td>\n",
       "      <td>0.42</td>\n",
       "      <td>0.42</td>\n",
       "    </tr>\n",
       "  </tbody>\n",
       "</table>\n",
       "</div>"
      ],
      "text/plain": [
       "     yr1status    YrFireName  Times_burned Species  Genus  DBH_cm   HT_m  \\\n",
       "500        0.0  2003 - Griff             1    ABAM  Abies  71.374  41.76   \n",
       "501        0.0  2003 - Griff             1    ABAM  Abies  23.622  12.80   \n",
       "502        0.0  2003 - Griff             1    ABAM  Abies  46.228  34.75   \n",
       "503        0.0  2003 - Griff             1    ABAM  Abies  21.082  23.16   \n",
       "504        0.0  2003 - Griff             1    ABAM  Abies  24.384  26.21   \n",
       "\n",
       "     CR_pre  CR_post  \n",
       "500    0.84     0.74  \n",
       "501    0.60     0.57  \n",
       "502    0.75     0.59  \n",
       "503    0.38     0.38  \n",
       "504    0.42     0.42  "
      ]
     },
     "execution_count": 3,
     "metadata": {},
     "output_type": "execute_result"
    }
   ],
   "source": [
    "# First five rows of the dataframe\n",
    "trees_dat.head()"
   ]
  },
  {
   "cell_type": "code",
   "execution_count": 4,
   "id": "d286a0f9-82b3-4835-98aa-fd87d379aa42",
   "metadata": {
    "tags": []
   },
   "outputs": [
    {
     "data": {
      "text/plain": [
       "yr1status       float64\n",
       "YrFireName       object\n",
       "Times_burned      int64\n",
       "Species          object\n",
       "Genus            object\n",
       "DBH_cm          float64\n",
       "HT_m            float64\n",
       "CR_pre          float64\n",
       "CR_post         float64\n",
       "dtype: object"
      ]
     },
     "execution_count": 4,
     "metadata": {},
     "output_type": "execute_result"
    }
   ],
   "source": [
    "# Data types of each column\n",
    "trees_dat.dtypes"
   ]
  },
  {
   "cell_type": "markdown",
   "id": "aaf806bf",
   "metadata": {},
   "source": [
    "## Step 3: Data Preprocessing\n",
    "1. We recode categorical predictors to zero-based integer form because most machine learning models, including logistic regression, cannot work directly with categorical data represented as strings or labels. Instead, models require numerical input. Let's do that here. \n"
   ]
  },
  {
   "cell_type": "code",
   "execution_count": 5,
   "id": "1e41fb79-ad31-4162-ac76-887461bb4160",
   "metadata": {
    "tags": []
   },
   "outputs": [
    {
     "data": {
      "text/plain": [
       "yr1status       float64\n",
       "YrFireName        int64\n",
       "Times_burned      int64\n",
       "Species           int64\n",
       "Genus             int64\n",
       "DBH_cm          float64\n",
       "HT_m            float64\n",
       "CR_pre          float64\n",
       "CR_post         float64\n",
       "dtype: object"
      ]
     },
     "execution_count": 5,
     "metadata": {},
     "output_type": "execute_result"
    }
   ],
   "source": [
    "# Recode categorical predictors to zero-based interger form\n",
    "trees_dat[\"YrFireName\"] = trees_dat[\"YrFireName\"].factorize()[0]\n",
    "trees_dat[\"Species\"] = trees_dat[\"Species\"].factorize()[0]\n",
    "trees_dat[\"Genus\"] = trees_dat[\"Genus\"].factorize()[0]\n",
    "\n",
    "# Check datatypes of columns\n",
    "trees_dat.dtypes"
   ]
  },
  {
   "cell_type": "markdown",
   "id": "fdcc4673-26dc-4c09-8c9a-0f2f97abe16f",
   "metadata": {},
   "source": [
    "2. Then we'll split into training and test data and scale for coefficient interpretability.  Recall that we use the training features to calculate our scaling parameters (mean and standard deviation) and apply the scaling to those training features (`scaler.fit_transform`) and then apply the scaling to the features in the test data as well (`scaler.transform`).\n"
   ]
  },
  {
   "cell_type": "code",
   "execution_count": 6,
   "id": "54b2f9d2-f414-4bf2-b0a3-51d55f3d997a",
   "metadata": {
    "tags": []
   },
   "outputs": [],
   "source": [
    "# Define features and target\n",
    "X = trees_dat.drop(columns=['yr1status'])\n",
    "y = trees_dat['yr1status']\n",
    "\n",
    "# Split the data\n",
    "X_train, X_test, y_train, y_test = train_test_split(X, y, test_size=0.3, random_state=42)\n",
    "\n",
    "# Standardize the predictors\n",
    "scaler = StandardScaler()\n",
    "X_train_scaled = scaler.fit_transform(X_train)\n",
    "X_test_scaled = scaler.transform(X_test)"
   ]
  },
  {
   "cell_type": "markdown",
   "id": "3055eca1-9c22-4266-95a0-710b43be5a8e",
   "metadata": {},
   "source": [
    "3. How many training/test observations do we have? Print your answer in the cell below. "
   ]
  },
  {
   "cell_type": "code",
   "execution_count": 7,
   "id": "fdb4803d-8680-4ede-b790-3579f4a485e7",
   "metadata": {
    "tags": []
   },
   "outputs": [
    {
     "name": "stdout",
     "output_type": "stream",
     "text": [
      "Training set observations: 25556\n",
      "Testing set observations: 10953\n"
     ]
    }
   ],
   "source": [
    "# Number of training/test observations\n",
    "train_obv = X_train_scaled.shape[0]\n",
    "test_obv = X_test_scaled.shape[0]\n",
    "\n",
    "# Verify the training and testing set size\n",
    "print(\"Training set observations:\", train_obv)\n",
    "print(\"Testing set observations:\", test_obv)"
   ]
  },
  {
   "cell_type": "markdown",
   "id": "4ca8857c",
   "metadata": {},
   "source": [
    "## Step 4: Train a Logistical Model\n",
    "Create a classifier using `LogisticRegression()` and fit it on the training data.  Then assess the model's accuracy on the training set by making predictions on the training data.  Calculate and **print** the accuracy of your model on the training set. "
   ]
  },
  {
   "cell_type": "code",
   "execution_count": 8,
   "id": "578b2ca5",
   "metadata": {
    "tags": []
   },
   "outputs": [
    {
     "name": "stdout",
     "output_type": "stream",
     "text": [
      "Training Accuracy: 0.944\n"
     ]
    }
   ],
   "source": [
    "# Create logistic regression model and fit\n",
    "model = LogisticRegression()\n",
    "model.fit(X_train_scaled, y_train)\n",
    "\n",
    "# Predictions on training data\n",
    "y_train_pred = model.predict(X_train_scaled)\n",
    "\n",
    "# Training set model accuracy\n",
    "train_acc = accuracy_score(y_train, y_train_pred)\n",
    "print(f\"Training Accuracy: {train_acc:.3f}\")"
   ]
  },
  {
   "cell_type": "markdown",
   "id": "34d86616",
   "metadata": {},
   "source": [
    "## Step 5: Test Set Predictions and Model Evaluation\n",
    "Now let's take our trained logistic classifier and make predictions on the test set. Calculate the accuracy and confusion matrix. Then use `sns.heatmap` for improved confusion matrix visualization."
   ]
  },
  {
   "cell_type": "code",
   "execution_count": 9,
   "id": "be4e4d6c",
   "metadata": {
    "tags": []
   },
   "outputs": [
    {
     "name": "stdout",
     "output_type": "stream",
     "text": [
      "Accuracy: 0.939\n"
     ]
    },
    {
     "data": {
      "image/png": "[encoded data removed]",
      "text/plain": [
       "<Figure size 600x500 with 2 Axes>"
      ]
     },
     "metadata": {},
     "output_type": "display_data"
    }
   ],
   "source": [
    "# Predictions on training data\n",
    "y_test_pred = model.predict(X_test_scaled)\n",
    "\n",
    "# Training set model accuracy\n",
    "test_acc = accuracy_score(y_test, y_test_pred)\n",
    "\n",
    "# Print evaluation metrics\n",
    "print(f\"Accuracy: {test_acc:.3f}\")\n",
    "\n",
    "#Plot confusion matrix\n",
    "matrix = confusion_matrix(y_test, y_test_pred)\n",
    "\n",
    "plt.figure(figsize=(6, 5))\n",
    "sns.heatmap(matrix, annot=True, fmt='d', cmap='Oranges', xticklabels=[\"Alive\", \"Dead\"], yticklabels=[\"Alive\", \"Dead\"])\n",
    "plt.title(\"Logistic Regression Confusion Matrix\")\n",
    "plt.xlabel('Predicted Labels')\n",
    "plt.ylabel('True Labels')\n",
    "\n",
    "plt.show()"
   ]
  },
  {
   "cell_type": "markdown",
   "id": "9b5cdbbb",
   "metadata": {},
   "source": [
    "## Step 6: Logistic Classifier Evaluation\n",
    "How did your model perform on the unseen data? \n",
    "Does your model perform differently on observations of trees that survived vs trees that died?\n",
    "Is there a class imbalance in this data set?"
   ]
  },
  {
   "cell_type": "markdown",
   "id": "7c651ef7",
   "metadata": {},
   "source": [
    "*The model performed well on the unseen data at an almost 94 percent accuracy. The model performs better on trees that are alive. This may be due to the extreme class imbalance between the number of observations of alive trees, and the number of observations of dead trees. There are nearly 10,000 observations of alive trees, and only about 1,000 observations of dead trees. This has resulted in the model being better trained to detect alive trees, and also more likely to say a tree is living even when it may be dead.*"
   ]
  },
  {
   "cell_type": "markdown",
   "id": "c60c7e36",
   "metadata": {},
   "source": [
    "## Step 7: What about a Dummy?\n",
    "What do you think would happen if we built a model that always predicts the majority class (alive trees)? How would its accuracy compare to your logistic regression model?"
   ]
  },
  {
   "cell_type": "markdown",
   "id": "e66ba576",
   "metadata": {},
   "source": [
    "*The model is already over predicting the majority class (more frequently classifying dead trees as alive than classifying alive trees as dead), so if we built a model that always predicts the majority class, our accuracy is going to decrease compared to the logistic regression model.*"
   ]
  },
  {
   "cell_type": "markdown",
   "id": "6854360d",
   "metadata": {},
   "source": [
    "Let's go ahead and do it: use `DummyClassifier()` with the appropriate value for the 'strategy' parameter to train a majority classifier.  Then calculate this model's accuracy on the training data."
   ]
  },
  {
   "cell_type": "code",
   "execution_count": 10,
   "id": "fe5b4015",
   "metadata": {
    "tags": []
   },
   "outputs": [
    {
     "name": "stdout",
     "output_type": "stream",
     "text": [
      "Dummy Accuracy: 0.917\n",
      "\n",
      "Dummy Confusion Matrix:\n",
      " [[23441     0]\n",
      " [ 2115     0]]\n"
     ]
    }
   ],
   "source": [
    "# Set model to always predict majority class\n",
    "dummy = DummyClassifier(strategy=\"most_frequent\")\n",
    "dummy.fit(X_train_scaled, y_train)\n",
    "y_dummy_pred = dummy.predict(X_train_scaled)\n",
    "\n",
    "# Dummy model accuracy\n",
    "dummy_acc = accuracy_score(y_train, y_dummy_pred)\n",
    "\n",
    "# Dummy confusion matrix\n",
    "dummy_matrix = confusion_matrix(y_train, y_dummy_pred)\n",
    "\n",
    "# Print accuracy and confusion matrix results\n",
    "print(f\"Dummy Accuracy: {dummy_acc:.3f}\")\n",
    "print(\"\\nDummy Confusion Matrix:\\n\", dummy_matrix)\n"
   ]
  },
  {
   "cell_type": "markdown",
   "id": "e3445d23",
   "metadata": {},
   "source": [
    "# Step 8: ROCs and AUCs\n",
    "Our two models have similar accuracy, but is that all there is to this story?  Let's dig a little deeper on the comparison of our logistic and dummy classifiers by examining the associated receiver-operator characteristic (ROC) curves. Calculate the area under the curve (AUC) for both models."
   ]
  },
  {
   "cell_type": "code",
   "execution_count": 11,
   "id": "cef8515b",
   "metadata": {
    "tags": []
   },
   "outputs": [
    {
     "name": "stdout",
     "output_type": "stream",
     "text": [
      "Logistic AUC: 0.917\n"
     ]
    },
    {
     "name": "stderr",
     "output_type": "stream",
     "text": [
      "/opt/anaconda3/envs/ml-env/lib/python3.10/site-packages/sklearn/base.py:458: UserWarning: X has feature names, but LogisticRegression was fitted without feature names\n",
      "  warnings.warn(\n",
      "/opt/anaconda3/envs/ml-env/lib/python3.10/site-packages/sklearn/base.py:458: UserWarning: X has feature names, but LogisticRegression was fitted without feature names\n",
      "  warnings.warn(\n"
     ]
    }
   ],
   "source": [
    "# Logistic classifier AUC\n",
    "X_df = pd.DataFrame(X_train_scaled, columns=X.columns)\n",
    "lc_auc = roc_auc_score(y_train, model.predict_proba(X_df)[:,1])\n",
    "fpr_lc, tpr_lc, _ = roc_curve(y_train, model.predict_proba(X_df)[:, 1])\n",
    "\n",
    "print(f\"Logistic AUC: {lc_auc:.3f}\")"
   ]
  },
  {
   "cell_type": "code",
   "execution_count": 12,
   "id": "5180e8b8",
   "metadata": {
    "tags": []
   },
   "outputs": [
    {
     "name": "stdout",
     "output_type": "stream",
     "text": [
      "Dummy AUC: 0.500\n"
     ]
    }
   ],
   "source": [
    "# Dummy classifier AUC\n",
    "dummy_auc = roc_auc_score(y, dummy.predict_proba(X)[:,1])\n",
    "fpr_dummy, tpr_dummy, _ = roc_curve(y, dummy.predict_proba(X)[:,1])\n",
    "\n",
    "print(f\"Dummy AUC: {dummy_auc:.3f}\")"
   ]
  },
  {
   "cell_type": "markdown",
   "id": "4acd252f",
   "metadata": {},
   "source": [
    "# Step 9: Plot dummy and logistic model ROC curves\n",
    "Now using the outputs from `roc_curve()`, plot the ROC curves for both models on the same plot.  Make sure to use appropriate labels in the legend."
   ]
  },
  {
   "cell_type": "code",
   "execution_count": 13,
   "id": "03a7fe29",
   "metadata": {
    "tags": []
   },
   "outputs": [
    {
     "data": {
      "image/png": "[encoded data removed]",
      "text/plain": [
       "<Figure size 800x600 with 1 Axes>"
      ]
     },
     "metadata": {},
     "output_type": "display_data"
    }
   ],
   "source": [
    "# Plot ROC Curves\n",
    "plt.figure(figsize=(8, 6))\n",
    "\n",
    "# Plot ROC curve for Logistic Regression\n",
    "plt.plot(fpr_lc, tpr_lc, color='#709176', lw=2, label=f'Logistic Regression (AUC = {lc_auc:.2f})')\n",
    "\n",
    "# Plot ROC curve for Dummy Classifier\n",
    "plt.plot(fpr_dummy, tpr_dummy, color='#6D2E46', lw=2, label=f'Dummy (AUC = {dummy_auc:.2f})')\n",
    "\n",
    "plt.title('Comparing ROC Curves')\n",
    "plt.xlabel('False Positive Rate')\n",
    "plt.ylabel('True Positive Rate')\n",
    "plt.legend(loc=\"lower right\")\n",
    "\n",
    "plt.show()"
   ]
  },
  {
   "cell_type": "markdown",
   "id": "ec104e80",
   "metadata": {},
   "source": [
    "How do the two models compare on AUC?  What are the implications for evaluating classifiers based on accuracy of their predictions?"
   ]
  },
  {
   "cell_type": "markdown",
   "id": "a4ab1a30",
   "metadata": {},
   "source": [
    "*The logistic regression model has a better AUC than the dummy model. The closer to 1 an AUC is, the better the model. An AUC of 0.5 would indicate that the model is no better classifying than a random guess. Since the logistic regression model has an AUC closer to one than the dummy model, the logistic regression model is a better classifier.*"
   ]
  },
  {
   "cell_type": "markdown",
   "id": "d1767d77",
   "metadata": {},
   "source": [
    "# Step 10: Final interpretation\n",
    "\n",
    "Identifying the most important features in a model can guide decision-making. For instance, in our dataset, highly important features might indicate key factors affecting tree survival after a fire. We will calculate the feature importance by examining the coefficients of our logistic regression model."
   ]
  },
  {
   "cell_type": "code",
   "execution_count": 14,
   "id": "e0a97e03",
   "metadata": {
    "tags": []
   },
   "outputs": [
    {
     "name": "stdout",
     "output_type": "stream",
     "text": [
      "        Feature  Coefficient  Absolute Coefficient\n",
      "7       CR_post    -2.268370              2.268370\n",
      "5          HT_m    -1.012642              1.012642\n",
      "4        DBH_cm     0.418123              0.418123\n",
      "2       Species     0.196823              0.196823\n",
      "3         Genus     0.160168              0.160168\n",
      "0    YrFireName    -0.115830              0.115830\n",
      "6        CR_pre     0.028025              0.028025\n",
      "1  Times_burned     0.000000              0.000000\n"
     ]
    }
   ],
   "source": [
    "# Logistic regression coefficients \n",
    "coefficients = model.coef_[0]  \n",
    "\n",
    "# DataFrame of features and their coefficients\n",
    "importance_df = pd.DataFrame({\n",
    "    'Feature': X.columns,\n",
    "    'Coefficient': coefficients\n",
    "})\n",
    "\n",
    "# Determine feature importance by sorting coefficients by the absolute value\n",
    "importance_df['Absolute Coefficient'] = importance_df['Coefficient'].abs()\n",
    "importance_df = importance_df.sort_values(by='Absolute Coefficient', ascending=False)\n",
    "\n",
    "# Print the sorted feature importance\n",
    "print(importance_df)"
   ]
  },
  {
   "cell_type": "markdown",
   "id": "55d9db5d",
   "metadata": {},
   "source": [
    "Which are the most important features in our model (reference the metadata to help answer this)? Can you think of any implications for forest management or conservation strategy?"
   ]
  },
  {
   "cell_type": "markdown",
   "id": "bd42e56c",
   "metadata": {},
   "source": [
    "*The 2 most important features in our model are `CR_post` (Post-fire live crown ratio. Crown length divided by tree height.), and `HT_m` (Pre-fire tree height rounded to nearest 0.01 m (m=meters).). The post-fire live crown ratio feels like an obvious indicator for the health of a tree; trees with a higher live crown to height ratio are more likely to be alive than trees with a lower ratio. This is less helpful information for forest management, but a good indicator for our model. Pre-fire tree height appears to be a clear implications for forest management. Since taller trees are more likely to be classified as alive, this would indicate that taller trees are better at surviving fires. Forest managment should focus on maintaining forests with taller, typically older trees.*"
   ]
  },
  {
   "cell_type": "code",
   "execution_count": null,
   "id": "82ae32f8-56dc-4928-b319-5bf6e84e94e9",
   "metadata": {},
   "outputs": [],
   "source": []
  }
 ],
 "metadata": {
  "kernelspec": {
   "display_name": "Anaconda 3 (EDS232)",
   "language": "python",
   "name": "ml-env"
  },
  "language_info": {
   "codemirror_mode": {
    "name": "ipython",
    "version": 3
   },
   "file_extension": ".py",
   "mimetype": "text/x-python",
   "name": "python",
   "nbconvert_exporter": "python",
   "pygments_lexer": "ipython3",
   "version": "3.10.16"
  }
 },
 "nbformat": 4,
 "nbformat_minor": 5
}

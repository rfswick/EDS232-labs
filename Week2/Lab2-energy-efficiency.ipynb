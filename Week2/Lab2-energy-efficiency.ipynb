{
 "cells": [
  {
   "cell_type": "markdown",
   "id": "16c0708e-dea9-4b21-966c-299bb273e08e",
   "metadata": {},
   "source": [
    "# EDS232 Lab 2: Regularized Regression and Energy Modeling\n",
    "\n",
    "\n",
    "## Overview\n",
    "In this lab, you will explore Ridge Regression and Lasso Regression, two common techniques for regularized regression. Both methods add penalties to the standard regression coefficients, which can help prevent overfitting and improve model interpretability.\n",
    "\n",
    "## Key Concepts\n",
    "\n",
    "**Types of Regularization:**\n",
    "\n",
    "- Ridge Regression:\n",
    "\n",
    "    - Adds an L2 penalty ($\\lambda \\sum_{j=1}^p \\beta_j^2 $) to the regression loss function.\n",
    "    - Shrinks coefficients toward zero but does not set any coefficients exactly to zero.\n",
    "    - Best suited for reducing multicollinearity and improving model stability.\n",
    "\n",
    "- Lasso Regression:\n",
    "\n",
    "    - Adds an L1 penalty ($\\lambda \\sum_{j=1}^p |\\beta_j|$) to the regression loss function.\n",
    "    - Can shrink some coefficients to exactly zero, effectively performing feature selection.\n",
    "    - Useful when you want a simpler, interpretable model.\n",
    "\n",
    "**Cross-Validation**\n",
    "\n",
    "- Cross-validation is a method for model evaluation and hyperparameter tuning.  In this lab we will be tuning $\\lambda$, which controls the penalty terms.\n",
    "\n",
    "- Note: Sci-kit learn refers to $\\lambda$, the regularization penalty hyperparameter, as \"alpha\" instead of \"lambda\" \n",
    "\n",
    "\n",
    "## About the data\n",
    "\n",
    "Buildings account for a significant portion of global energy consumption. Effective energy modeling and analysis are critical for designing energy-efficient buildings, reducing greenhouse gas emissions, and meeting sustainability goals. \n",
    "\n",
    "- This dataset contains energy performance data for 768 different building configurations, generated through simulation using Ecotect software. These configurations vary across multiple architectural features:\n",
    "\n",
    "| Feature                     | Description                                                                                   |\n",
    "|-----------------------------|-----------------------------------------------------------------------------------------------|\n",
    "| Relative Compactness        | A measure of how compact the building's shape is.                                             |\n",
    "| Surface Area                | The total external surface area of the building.                                              |\n",
    "| Wall Area                   | The total area of the walls.                                                                  |\n",
    "| Roof Area                   | The area of the roof.                                                                         |\n",
    "| Overall Height              | The height of the building.                                                                   |\n",
    "| Orientation                 | The direction the building faces (categorical, encoded numerically).                         |\n",
    "| Glazing Area                | The percentage of the building’s facade that is glass.                                        |\n",
    "| Glazing Area Distribution   | The distribution of the glazing area (e.g., evenly distributed or concentrated on one side). |\n",
    "| Heating Load (Y1)           | Continuous target variable representing heating energy requirements. (This is the one we'll use for today's lab.) |\n",
    "| Cooling Load (Y2)           | Continuous target variable representing cooling energy requirements. (We won't be using this one.) |\n"
   ]
  },
  {
   "cell_type": "code",
   "execution_count": 1,
   "id": "afd7e68a-91ab-4566-a3a7-3e599191e6a0",
   "metadata": {
    "tags": []
   },
   "outputs": [],
   "source": [
    "# Import libraries\n",
    "import pandas as pd\n",
    "import numpy as np\n",
    "import matplotlib.pyplot as plt\n",
    "from sklearn.model_selection import train_test_split\n",
    "from sklearn.metrics import mean_squared_error\n",
    "from sklearn.linear_model import LinearRegression\n",
    "from sklearn.preprocessing import StandardScaler\n",
    "from sklearn.linear_model import Ridge\n",
    "from sklearn.linear_model import Lasso\n",
    "from sklearn.linear_model import RidgeCV\n",
    "from sklearn.linear_model import LassoCV\n",
    "from ucimlrepo import fetch_ucirepo \n"
   ]
  },
  {
   "cell_type": "markdown",
   "id": "052cec6a",
   "metadata": {},
   "source": [
    "### Step 1: Fetch  dataset \n",
    "Grab the data from the UC Irvine Machine Learning Repository using fetch_ucirepo.  Note that the object returned contains both tabular data as well as metadata.  We'll need to add column names to the tabular data."
   ]
  },
  {
   "cell_type": "code",
   "execution_count": 2,
   "id": "ea0ecf0b-bce9-47ad-b902-d9dcf2448dfe",
   "metadata": {
    "tags": []
   },
   "outputs": [],
   "source": [
    "# Fetch dataset\n",
    "energy_efficiency = fetch_ucirepo(id=242)\n",
    "\n",
    "#Specify column names as a list of names from the metadata\n",
    "feature_names = [\"Relative Compactness\",\n",
    "    \"Surface Area\",\n",
    "    \"Wall Area\",\n",
    "    \"Roof Area\",\n",
    "    \"Overall Height\",\n",
    "    \"Orientation\",\n",
    "    \"Glazing Area\",\n",
    "    \"Glazing Area Distribution\",]\n",
    "\n",
    "#Add feature_names as column names in energy_efficiency.data\n",
    "energy_efficiency.data['features'].columns = feature_names\n",
    "\n",
    "# Rename the 'targets' columns and assign Heating Load target to heating_load\n",
    "energy_efficiency.data['targets'].columns = [\"Heating Load\", \"Cooling Load\"]\n",
    "\n",
    "heating_load = energy_efficiency.data['targets'][\"Heating Load\"]\n"
   ]
  },
  {
   "cell_type": "code",
   "execution_count": 3,
   "id": "15a93e76-1678-46a0-a4c2-cc568bdd0f93",
   "metadata": {
    "tags": []
   },
   "outputs": [
    {
     "data": {
      "text/plain": [
       "ucimlrepo.dotdict.dotdict"
      ]
     },
     "execution_count": 3,
     "metadata": {},
     "output_type": "execute_result"
    }
   ],
   "source": [
    "type(energy_efficiency.data)"
   ]
  },
  {
   "cell_type": "markdown",
   "id": "b8127d4b-1a07-49d2-9eb9-9ceb58e37868",
   "metadata": {},
   "source": [
    "### Step 2: Preprocess the data\n",
    "Split the data into training and test sets **using a 70/30 split and a random state value of 42**. Then scale the data using StandardScaler."
   ]
  },
  {
   "cell_type": "code",
   "execution_count": 4,
   "id": "c2949568",
   "metadata": {
    "tags": []
   },
   "outputs": [],
   "source": [
    "\n",
    "# Assign predictor and outcome variables \n",
    "X = energy_efficiency.data.features\n",
    "Y = heating_load\n",
    "\n",
    "# Split the data\n",
    "X_train, X_test, y_train, y_test = train_test_split(X, Y, test_size=0.3, random_state=42)\n",
    "\n",
    "# Standardize the predictors\n",
    "scaler = StandardScaler()\n",
    "X_train_scaled = scaler.fit_transform(X_train)\n",
    "X_test_scaled = scaler.fit_transform(X_test)"
   ]
  },
  {
   "cell_type": "markdown",
   "id": "cf13cf2a-7f76-4387-9631-cb239e0af797",
   "metadata": {},
   "source": [
    "Scale your testing and training data seperately to avoid leakage between test and train data. Scaling them together can indtroduce a source of bias into your model."
   ]
  },
  {
   "cell_type": "markdown",
   "id": "410fb7ba",
   "metadata": {},
   "source": [
    "### Step 3: Initial model fits\n",
    "We'll start by fitting a simple ordinary least squared regression model for comparison purposes.  Then we'll fit an initial ridge regression model. Let's start by choosing 10 as an arbitrary value for alpha. Recall that we can access coefficients from a model instance with `model_name.coef_`. \n"
   ]
  },
  {
   "cell_type": "code",
   "execution_count": 5,
   "id": "decbe825",
   "metadata": {
    "tags": []
   },
   "outputs": [
    {
     "name": "stdout",
     "output_type": "stream",
     "text": [
      "OLS Coefficients: [-6.68692391 -3.70147238  0.76114173 -3.99242943  7.21681807 -0.02606662\n",
      "  2.6700316   0.35604219]\n",
      "Ridge Coefficients: [-2.47753304 -1.43512945  1.71819798 -2.24012431  6.98517033 -0.02697343\n",
      "  2.64233342  0.3579727 ]\n"
     ]
    }
   ],
   "source": [
    "# Create OLS instance and fit it\n",
    "ols = LinearRegression()\n",
    "ols.fit(X_train_scaled, y_train)\n",
    "\n",
    "# Define a fixed alpha (lambda)\n",
    "alpha_fixed = 10\n",
    "\n",
    "# Create Ridge regression instance and fit it\n",
    "ridge = Ridge(alpha=alpha_fixed)\n",
    "ridge.fit(X_train_scaled, y_train)\n",
    "\n",
    "# Check coefficients of the OLS and ridge models\n",
    "print(\"OLS Coefficients:\", ols.coef_)\n",
    "print(\"Ridge Coefficients:\", ridge.coef_)\n"
   ]
  },
  {
   "cell_type": "markdown",
   "id": "15ec75ba",
   "metadata": {},
   "source": [
    "Is the penalty term doing its job?  How can you tell?"
   ]
  },
  {
   "cell_type": "markdown",
   "id": "22513ce9",
   "metadata": {},
   "source": [
    "*Your answer here.*"
   ]
  },
  {
   "cell_type": "markdown",
   "id": "9f77de4b",
   "metadata": {},
   "source": [
    "### Step 4: Evaluate ridge model\n",
    "Now let's use our ridge model to make predictions and evaluate it using MSE. **Be sure to print your results.**"
   ]
  },
  {
   "cell_type": "code",
   "execution_count": 6,
   "id": "23e19926",
   "metadata": {
    "tags": []
   },
   "outputs": [
    {
     "name": "stdout",
     "output_type": "stream",
     "text": [
      "Train MSE (alpha=10): 8.7248\n",
      "Test MSE (alpha=10): 9.9576\n"
     ]
    }
   ],
   "source": [
    "# Predictions using ridge model\n",
    "y_train_pred = ridge.predict(X_train_scaled)\n",
    "y_test_pred = ridge.predict(X_test_scaled)\n",
    "\n",
    "# Evaluate MSE\n",
    "mse_train = mean_squared_error(y_train, y_train_pred)\n",
    "mse_test = mean_squared_error(y_test, y_test_pred)\n",
    "\n",
    "print(f\"Train MSE (alpha={alpha_fixed}): {mse_train:.4f}\")\n",
    "print(f\"Test MSE (alpha={alpha_fixed}): {mse_test:.4f}\")"
   ]
  },
  {
   "cell_type": "markdown",
   "id": "419c3469",
   "metadata": {},
   "source": [
    "### Step 5: Cross-validation with ridge\n",
    "Now let's move to a more sophisticated version of a ridge regression model using cross-validation using the RidgeCV class.  Let's try models with 0.1, 1.0, and 10.0 as values of alpha. Of the alpha parameter values we try, the model will save the that yielded the best MSE in the `_cv.alpha_` attribute."
   ]
  },
  {
   "cell_type": "code",
   "execution_count": 7,
   "id": "dab3def6",
   "metadata": {
    "tags": []
   },
   "outputs": [
    {
     "name": "stdout",
     "output_type": "stream",
     "text": [
      "Best alpha 1.0\n",
      "Best alpha [0.1, 1.0, 10.0]\n",
      "Test MSE with best alpha: 9.5469\n"
     ]
    }
   ],
   "source": [
    "# Define the three alpha values\n",
    "alphas = [0.1, 1.0, 10.0]\n",
    "\n",
    "# Fit RidgeCV\n",
    "ridge_cv = RidgeCV(alphas=alphas, cv=10).fit(X_train_scaled, y_train)\n",
    "\n",
    "# Print best alpha\n",
    "print(f\"Best alpha {ridge_cv.alpha_}\")\n",
    "print(f\"Best alpha {ridge_cv.alphas}\")\n",
    "\n",
    "# Evaluate model with the best alpha\n",
    "y_test_pred_cv = ridge_cv.predict(X_test_scaled)\n",
    "mse_test_cv = mean_squared_error(y_test, y_test_pred_cv)\n",
    "print(f\"Test MSE with best alpha: {mse_test_cv:.4f}\")\n"
   ]
  },
  {
   "cell_type": "markdown",
   "id": "5a545998-596f-4021-83a9-71010807a5dc",
   "metadata": {},
   "source": [
    "### Step 6: Fit ridge models to a large range of alpha values \n",
    "Now we are going to dig a little deeper to see alpha's effect on the model coefficients. Let's define a larger range of alphas to try on a log scale with np.logspace(). Let's use 100 values ranging between -4 and 4.  Then using a for loop, we'll fit a Ridge model for each of those values of alpha, appending each model's coefficients (`coefficients.append()`) as we go."
   ]
  },
  {
   "cell_type": "code",
   "execution_count": 32,
   "id": "de186e4d",
   "metadata": {
    "tags": []
   },
   "outputs": [
    {
     "name": "stdout",
     "output_type": "stream",
     "text": [
      "[array([-6.68674872, -3.7013526 ,  0.76117038, -3.99232615,  7.21686693,\n",
      "       -0.0260662 ,  2.67003207,  0.35604239]), array([-6.6867129 , -3.70132811,  0.76117624, -3.99230503,  7.21687692,\n",
      "       -0.02606611,  2.67003216,  0.35604243]), array([-6.68666975, -3.70129861,  0.7611833 , -3.9922796 ,  7.21688895,\n",
      "       -0.02606601,  2.67003228,  0.35604248]), array([-6.68661778, -3.70126307,  0.7611918 , -3.99224896,  7.21690345,\n",
      "       -0.02606589,  2.67003242,  0.35604254]), array([-6.68655518, -3.70122027,  0.76120203, -3.99221205,  7.2169209 ,\n",
      "       -0.02606574,  2.67003259,  0.35604261]), array([-6.68647978, -3.70116872,  0.76121436, -3.9921676 ,  7.21694193,\n",
      "       -0.02606556,  2.67003279,  0.3560427 ]), array([-6.68638897, -3.70110663,  0.76122922, -3.99211406,  7.21696725,\n",
      "       -0.02606534,  2.67003303,  0.3560428 ]), array([-6.68627959, -3.70103185,  0.7612471 , -3.99204958,  7.21699775,\n",
      "       -0.02606508,  2.67003333,  0.35604292]), array([-6.68614784, -3.70094178,  0.76126865, -3.99197192,  7.21703449,\n",
      "       -0.02606476,  2.67003368,  0.35604308]), array([-6.68598916, -3.70083329,  0.7612946 , -3.99187837,  7.21707873,\n",
      "       -0.02606438,  2.67003411,  0.35604326]), array([-6.68579805, -3.70070263,  0.76132586, -3.99176571,  7.21713202,\n",
      "       -0.02606393,  2.67003462,  0.35604348]), array([-6.68556788, -3.70054526,  0.7613635 , -3.99163003,  7.21719619,\n",
      "       -0.02606338,  2.67003524,  0.35604374]), array([-6.68529066, -3.70035573,  0.76140884, -3.99146661,  7.21727348,\n",
      "       -0.02606272,  2.67003598,  0.35604406]), array([-6.6849568 , -3.70012748,  0.76146344, -3.9912698 ,  7.21736655,\n",
      "       -0.02606192,  2.67003688,  0.35604444]), array([-6.68455473, -3.6998526 ,  0.76152921, -3.99103279,  7.21747863,\n",
      "       -0.02606096,  2.67003796,  0.3560449 ]), array([-6.68407052, -3.69952157,  0.7616084 , -3.99074738,  7.21761358,\n",
      "       -0.02605981,  2.67003926,  0.35604546]), array([-6.68348742, -3.69912294,  0.76170378, -3.99040368,  7.21777608,\n",
      "       -0.02605841,  2.67004082,  0.35604613]), array([-6.68278527, -3.69864294,  0.76181864, -3.98998982,  7.21797174,\n",
      "       -0.02605674,  2.6700427 ,  0.35604694]), array([-6.68193982, -3.69806499,  0.76195695, -3.98949152,  7.21820728,\n",
      "       -0.02605472,  2.67004497,  0.35604791]), array([-6.68092187, -3.69736915,  0.76212348, -3.98889158,  7.21849082,\n",
      "       -0.02605229,  2.6700477 ,  0.35604907]), array([-6.67969633, -3.69653145,  0.762324  , -3.98816935,  7.21883209,\n",
      "       -0.02604937,  2.67005098,  0.35605048]), array([-6.67822104, -3.69552308,  0.7625654 , -3.98729999,  7.21924279,\n",
      "       -0.02604586,  2.67005493,  0.35605217]), array([-6.67644528, -3.69430942,  0.76285601, -3.98625367,  7.21973695,\n",
      "       -0.02604162,  2.67005968,  0.35605421]), array([-6.67430817, -3.69284891,  0.7632058 , -3.98499457,  7.2203314 ,\n",
      "       -0.02603654,  2.67006538,  0.35605666]), array([-6.67173663, -3.69109168,  0.76362678, -3.98347973,  7.22104631,\n",
      "       -0.02603041,  2.67007225,  0.3560596 ]), array([-6.66864298, -3.68897791,  0.76413334, -3.98165761,  7.22190581,\n",
      "       -0.02602305,  2.67008049,  0.35606315]), array([-6.66492214, -3.68643595,  0.76474276, -3.9794665 ,  7.22293876,\n",
      "       -0.02601421,  2.67009039,  0.35606741]), array([-6.66044829, -3.68338008,  0.76547574, -3.97683258,  7.22417959,\n",
      "       -0.02600358,  2.67010227,  0.35607253]), array([-6.65507098, -3.67970782,  0.76635708, -3.97366764,  7.22566932,\n",
      "       -0.02599083,  2.67011651,  0.35607868]), array([-6.64861055, -3.67529695,  0.76741642, -3.96986648,  7.22745666,\n",
      "       -0.02597552,  2.67013356,  0.35608606]), array([-6.64085285, -3.67000191,  0.76868919, -3.96530389,  7.22959938,\n",
      "       -0.02595717,  2.67015397,  0.35609491]), array([-6.63154317, -3.66364979,  0.77021761, -3.9598312 ,  7.23216564,\n",
      "       -0.02593519,  2.67017836,  0.35610553]), array([-6.62037935, -3.65603578,  0.7720519 , -3.95327243,  7.23523562,\n",
      "       -0.0259089 ,  2.67020745,  0.35611824]), array([-6.60700407, -3.64691817,  0.77425168, -3.94542001,  7.23890305,\n",
      "       -0.02587748,  2.67024208,  0.35613345]), array([-6.59099637, -3.63601282,  0.77688747, -3.93603021,  7.24327685,\n",
      "       -0.02584001,  2.6702832 ,  0.35615161]), array([-6.57186259, -3.6229875 ,  0.78004242, -3.92481836,  7.24848257,\n",
      "       -0.02579541,  2.67033189,  0.35617327]), array([-6.54902707, -3.60745619,  0.78381412, -3.91145417,  7.25466338,\n",
      "       -0.02574245,  2.67038934,  0.35619904]), array([-6.52182303, -3.58897376,  0.78831654, -3.89555746,  7.26198054,\n",
      "       -0.02567973,  2.6704568 ,  0.35622963]), array([-6.48948452, -3.56703181,  0.79368189, -3.87669504,  7.27061261,\n",
      "       -0.02560573,  2.67053562,  0.35626584]), array([-6.4511405 , -3.54105637,  0.80006249, -3.85437932,  7.28075297,\n",
      "       -0.02551877,  2.67062708,  0.35630854]), array([-6.40581256, -3.51040886,  0.80763218, -3.82806993,  7.29260485,\n",
      "       -0.0254171 ,  2.67073235,  0.35635871]), array([-6.35241843, -3.47439171,  0.81658728, -3.79717974,  7.30637281,\n",
      "       -0.02529893,  2.67085229,  0.35641735]), array([-6.28978341, -3.43226059,  0.82714671, -3.76108684,  7.32224948,\n",
      "       -0.02516258,  2.67098717,  0.35648549]), array([-6.2166628 , -3.38324542,  0.83955089, -3.71915458,  7.34039632,\n",
      "       -0.02500662,  2.67113637,  0.35656413]), array([-6.13177778, -3.32658212,  0.85405911, -3.67076136,  7.36091703,\n",
      "       -0.02483007,  2.67129791,  0.35665414]), array([-6.03386711, -3.26155689,  0.87094518, -3.61534183,  7.38382258,\n",
      "       -0.02463275,  2.67146778,  0.35675618]), array([-5.92175545, -3.18756366,  0.890491  , -3.55244003,  7.40898759,\n",
      "       -0.02441557,  2.67163922,  0.35687054]), array([-5.794437  , -3.10417354,  0.91297838, -3.48177332,  7.43609882,\n",
      "       -0.024181  ,  2.67180177,  0.35699701]), array([-5.65116943, -3.0112124 ,  0.93867959, -3.40330373,  7.46459825,\n",
      "       -0.02393354,  2.67194019,  0.35713468]), array([-5.49156924, -2.90883962,  0.96784758, -3.31731025,  7.49362543,\n",
      "       -0.02368016,  2.67203327,  0.35728181]), array([-5.31569531, -2.79761738,  1.0007075 , -3.22445256,  7.52196595,\n",
      "       -0.02343069,  2.67205256,  0.35743564]), array([-5.12410445, -2.67855794,  1.03745103, -3.12581446,  7.54801478,\n",
      "       -0.02319814,  2.67196119,  0.35759234]), array([-4.9178632 , -2.55313556,  1.0782353 , -3.02291507,  7.56976358,\n",
      "       -0.02299867,  2.67171268,  0.35774699]), array([-4.69850396, -2.42325314,  1.12318708, -2.9176782 ,  7.5848205 ,\n",
      "       -0.02285136,  2.67124993,  0.35789374]), array([-4.46792281, -2.29115959,  1.17241163, -2.8123558 ,  7.59046742,\n",
      "       -0.02277761,  2.67050431,  0.35802604]), array([-4.2282284 , -2.15932293,  1.22600408, -2.70940933,  7.58375546,\n",
      "       -0.0228001 ,  2.66939481,  0.35813707]), array([-3.9815635 , -2.03027309,  1.284059  , -2.61136053,  7.56163466,\n",
      "       -0.02294155,  2.66782697,  0.35822025]), array([-3.72992976, -1.90643496,  1.34667305, -2.52062939,  7.52110974,\n",
      "       -0.02322302,  2.66569156,  0.35826985]), array([-3.4750481 , -1.7899742 ,  1.41393536, -2.43937855,  7.45941222,\n",
      "       -0.02366217,  2.66286262,  0.35828166]), array([-3.21828108, -1.68267499,  1.48590173, -2.36938111,  7.3741789 ,\n",
      "       -0.0242713 ,  2.65919478,  0.35825367]), array([-2.9606316 , -1.58586151,  1.56255144, -2.31192284,  7.2636278 ,\n",
      "       -0.02505534,  2.65451974,  0.35818664]), array([-2.70281607, -1.50036625,  1.64372881, -2.26774266,  7.12672242,\n",
      "       -0.02600997,  2.64864183,  0.35808465]), array([-2.44539546, -1.42654026,  1.72907589, -2.23701002,  6.96331373,\n",
      "       -0.02711982,  2.64133282,  0.35795541]), array([-2.18893616, -1.36429592,  1.81796578, -2.21933423,  6.77424551,\n",
      "       -0.02835708,  2.63232626,  0.35781029]), array([-1.93416696, -1.31317115,  1.90944838, -2.21380099,  6.56140484,\n",
      "       -0.0296806 ,  2.62131149,  0.35766397]), array([-1.68209955, -1.27240509,  2.00222052, -2.21903189,  6.32769857,\n",
      "       -0.03103592,  2.60792788,  0.35753342]), array([-1.43408714, -1.24101738,  2.09462996, -2.2332639 ,  6.0769406 ,\n",
      "       -0.03235613,  2.59175986,  0.35743625]), array([-1.19180856, -1.21788568,  2.18471747, -2.25444576,  5.81364602,\n",
      "       -0.03356404,  2.57233317,  0.35738807]), array([-0.95718062, -1.20181746,  2.27029459, -2.280346  ,  5.54274373,\n",
      "       -0.03457532,  2.54911349,  0.35739882]), array([-0.73221634, -1.19161282,  2.34904764, -2.30866507,  5.26923706,\n",
      "       -0.03530261,  2.52150818,  0.35746812]), array([-0.51885753, -1.18611575,  2.41865357, -2.33714177,  4.99785431,\n",
      "       -0.03566021,  2.48887262,  0.35757948]), array([-0.31881376, -1.18425121,  2.47689215, -2.36364419,  4.73273507,\n",
      "       -0.03556902,  2.45052257,  0.35769372]), array([-0.13343619, -1.18504671,  2.52174169, -2.38623732,  4.47719153,\n",
      "       -0.03496158,  2.40575411,  0.35774179]), array([ 0.03635558, -1.18763795,  2.55145146, -2.40322379,  4.23356858,\n",
      "       -0.0337868 ,  2.35387304,  0.35761759]), array([ 0.19008756, -1.19125964,  2.56459082, -2.41315887,  4.00320814,\n",
      "       -0.03201455,  2.29423449,  0.35717173]), array([ 0.32769181, -1.19522422,  2.56008135, -2.41484517,  3.78650633,\n",
      "       -0.02963993,  2.2262933 ,  0.35620752]), array([ 0.44942666, -1.19889183,  2.53722067, -2.40731489,  3.58304128,\n",
      "       -0.02668693,  2.14966346,  0.35448116]), array([ 0.55577412, -1.2016362 ,  2.49570673, -2.38980826,  3.39174504,\n",
      "       -0.02321129,  2.06418295,  0.35170797]), array([ 0.64733158, -1.20281137,  2.43566759, -2.36175545,  3.21109486,\n",
      "       -0.0193016 ,  1.96997779,  0.34757691]), array([ 0.72471345, -1.20172465,  2.35769598, -2.32276689,  3.03930392,\n",
      "       -0.01507789,  1.86751633,  0.34177403]), array([ 0.7884745 , -1.19762159,  2.26288165, -2.27263435,  2.87449766,\n",
      "       -0.01068689,  1.75764353,  0.33401454]), array([ 0.83906402, -1.18968842,  2.15282965, -2.21134216,  2.71486753,\n",
      "       -0.00629334,  1.64158545,  0.32408   ]), array([ 8.76815591e-01, -1.17707632e+00,  2.02964995e+00, -2.13908597e+00,\n",
      "        2.55879777e+00, -2.06778143e-03,  1.52091658e+00,  3.11855332e-01]), array([ 9.01973738e-01, -1.15894959e+00,  1.89590602e+00, -2.05629482e+00,\n",
      "        2.40496391e+00,  1.82793466e-03,  1.39748835e+00,  2.97358252e-01]), array([ 0.91475348, -1.13455572,  1.75451614, -1.96365177,  2.25240298,\n",
      "        0.00525541,  1.27332365,  0.28075411]), array([ 0.91542378, -1.10331083,  1.60861078, -1.86210809,  2.10055599,\n",
      "        0.00811209,  1.15048912,  0.2623515 ]), array([ 0.90440074, -1.06488859,  1.46135964, -1.75288617,  1.94928348,\n",
      "        0.01033907,  1.03096173,  0.24257795]), array([ 0.88233313, -1.0192974 ,  1.31579013, -1.63746675,  1.79885442,\n",
      "        0.01192307,  0.91650742,  0.22193986]), array([ 0.85016232, -0.96692992,  1.17462153, -1.51755671,  1.64990851,\n",
      "        0.01289263,  0.80858679,  0.20097404]), array([ 0.80914254, -0.9085719 ,  1.04013603, -1.39503506,  1.50339272,\n",
      "        0.01330967,  0.70829751,  0.1801996 ]), array([ 0.76081422, -0.84536445,  0.91410009, -1.27187765,  1.36047453,\n",
      "        0.01325856,  0.61635552,  0.16007793]), array([ 0.70693265, -0.77872231,  0.79773914, -1.15006496,  1.22243769,\n",
      "        0.01283477,  0.53311117,  0.14098528]), array([ 0.64936338, -0.71021995,  0.69175986, -1.03148151,  1.09056985,\n",
      "        0.01213482,  0.45859168,  0.12319962]), array([ 0.58996194, -0.6414633 ,  0.59640835, -0.91781852,  0.96605422,\n",
      "        0.01124858,  0.3925596 ,  0.10690003]), array([ 0.5304577 , -0.57396676,  0.51154984, -0.81049241,  0.84987761,\n",
      "        0.01025424,  0.33457753,  0.09217563]), array([ 0.47235875, -0.50905248,  0.43675678, -0.71058906,  0.74276525,\n",
      "        0.0092158 ,  0.28407108,  0.07904022]), array([ 0.41688884, -0.44778272,  0.37139484, -0.61883946,  0.64514743,\n",
      "        0.00818264,  0.24038486,  0.06744936]), array([ 0.36495968, -0.39092853,  0.31469963, -0.53562635,  0.55715807,\n",
      "        0.00719041,  0.20282868,  0.05731712]), array([ 0.31717555, -0.33897146,  0.26584075, -0.46101704,  0.47865981,\n",
      "        0.00626287,  0.17071315,  0.04853109]), array([ 0.27386259, -0.29213049,  0.22397165, -0.3948141 ,  0.40928793,\n",
      "        0.00541402,  0.14337522,  0.04096472])]\n"
     ]
    }
   ],
   "source": [
    "# Define alphas for ridge regression.  Initialize an empty list to hold our coefficients\n",
    "alphas = np.logspace(-4, 4, 100)  # Alphas from 0.0001 to 10,000\n",
    "coefficients = []\n",
    "\n",
    "# Fit a ridge model for each alpha and collect coefficients\n",
    "for alpha in alphas: \n",
    "    ridge = Ridge(alpha=alpha).fit(X_train_scaled, y_train)\n",
    "    coefficients.append(ridge.coef_)\n",
    "\n",
    "#coefficients =\n",
    "print(coefficients)"
   ]
  },
  {
   "cell_type": "markdown",
   "id": "2f4209c1",
   "metadata": {},
   "source": [
    "### Step 7: Plot ridge coefficients vs. lambda\n",
    "\n",
    "Make this pretty"
   ]
  },
  {
   "cell_type": "code",
   "execution_count": 33,
   "id": "9f286aa4",
   "metadata": {
    "tags": []
   },
   "outputs": [
    {
     "data": {
      "text/plain": [
       "<function matplotlib.pyplot.show(close=None, block=None)>"
      ]
     },
     "execution_count": 33,
     "metadata": {},
     "output_type": "execute_result"
    },
    {
     "data": {
      "image/png": "[encoded data removed]",
      "text/plain": [
       "<Figure size 640x480 with 1 Axes>"
      ]
     },
     "metadata": {},
     "output_type": "display_data"
    }
   ],
   "source": [
    "# Plot coefficients vs. alpha. Another for loop may be in order \n",
    "plt.plot(alphas, coefficients)\n",
    "plt.show"
   ]
  },
  {
   "cell_type": "markdown",
   "id": "fb7d6b08",
   "metadata": {},
   "source": [
    "### Step 8: Run a full cross-validated ridge model using RidgeCV\n",
    "\n",
    "This is all needs to be fixed"
   ]
  },
  {
   "cell_type": "code",
   "execution_count": 34,
   "id": "dd16f9a2",
   "metadata": {
    "tags": []
   },
   "outputs": [
    {
     "name": "stdout",
     "output_type": "stream",
     "text": [
      "Best alpha 0.521400828799969\n",
      "Best alpha [1.00000000e-04 1.20450354e-04 1.45082878e-04 1.74752840e-04\n",
      " 2.10490414e-04 2.53536449e-04 3.05385551e-04 3.67837977e-04\n",
      " 4.43062146e-04 5.33669923e-04 6.42807312e-04 7.74263683e-04\n",
      " 9.32603347e-04 1.12332403e-03 1.35304777e-03 1.62975083e-03\n",
      " 1.96304065e-03 2.36448941e-03 2.84803587e-03 3.43046929e-03\n",
      " 4.13201240e-03 4.97702356e-03 5.99484250e-03 7.22080902e-03\n",
      " 8.69749003e-03 1.04761575e-02 1.26185688e-02 1.51991108e-02\n",
      " 1.83073828e-02 2.20513074e-02 2.65608778e-02 3.19926714e-02\n",
      " 3.85352859e-02 4.64158883e-02 5.59081018e-02 6.73415066e-02\n",
      " 8.11130831e-02 9.77009957e-02 1.17681195e-01 1.41747416e-01\n",
      " 1.70735265e-01 2.05651231e-01 2.47707636e-01 2.98364724e-01\n",
      " 3.59381366e-01 4.32876128e-01 5.21400829e-01 6.28029144e-01\n",
      " 7.56463328e-01 9.11162756e-01 1.09749877e+00 1.32194115e+00\n",
      " 1.59228279e+00 1.91791026e+00 2.31012970e+00 2.78255940e+00\n",
      " 3.35160265e+00 4.03701726e+00 4.86260158e+00 5.85702082e+00\n",
      " 7.05480231e+00 8.49753436e+00 1.02353102e+01 1.23284674e+01\n",
      " 1.48496826e+01 1.78864953e+01 2.15443469e+01 2.59502421e+01\n",
      " 3.12571585e+01 3.76493581e+01 4.53487851e+01 5.46227722e+01\n",
      " 6.57933225e+01 7.92482898e+01 9.54548457e+01 1.14975700e+02\n",
      " 1.38488637e+02 1.66810054e+02 2.00923300e+02 2.42012826e+02\n",
      " 2.91505306e+02 3.51119173e+02 4.22924287e+02 5.09413801e+02\n",
      " 6.13590727e+02 7.39072203e+02 8.90215085e+02 1.07226722e+03\n",
      " 1.29154967e+03 1.55567614e+03 1.87381742e+03 2.25701972e+03\n",
      " 2.71858824e+03 3.27454916e+03 3.94420606e+03 4.75081016e+03\n",
      " 5.72236766e+03 6.89261210e+03 8.30217568e+03 1.00000000e+04]\n",
      "9.546906537912111\n"
     ]
    }
   ],
   "source": [
    "# Fit a RidgeCV with cross-validation\n",
    "ridge_cv = RidgeCV(alphas=alphas, cv=10).fit(X_train_scaled, y_train)\n",
    "\n",
    "\n",
    "# Print the optimal alpha and coefficients corresponding to that alpha\n",
    "print(f\"Best alpha {ridge_cv.alpha_}\")\n",
    "print(f\"Best alpha {ridge_cv.alphas}\")\n",
    "\n",
    "# Evaluate the model on the test set by predicting..\n",
    "y_test_pred = ridge_cv.predict(X_test_scaled)\n",
    "\n",
    "# ... and printing the MSE\n",
    "mse = mean_squared_error(y_test, y_test_pred_cv)\n",
    "print(mse)"
   ]
  },
  {
   "cell_type": "markdown",
   "id": "ae2d8b18-e8ed-4b95-8cd3-afc3dc83f456",
   "metadata": {},
   "source": [
    "### Step 9: Fit lasso regression using LassoCV"
   ]
  },
  {
   "cell_type": "code",
   "execution_count": null,
   "id": "447a5a2e-1995-4f8c-9d5d-10f72c1d2f45",
   "metadata": {
    "tags": []
   },
   "outputs": [],
   "source": [
    "# Fit lasso regression with cross-validation\n",
    "lasso_cv = \n",
    "\n",
    "# Print the optimal alpha and associated coefficients\n",
    "\n"
   ]
  },
  {
   "cell_type": "markdown",
   "id": "9a4691e6-47ae-44ca-8446-9d950c1ea441",
   "metadata": {},
   "source": [
    "### Step 10: The \"one-standard error\" rule \n",
    "We can use 1-SE rule to trade off a small amount of accuracy for increased model simplicity and interpretability.  To do so, find the highest penalty value that falls within 1 standard error of the minimum MSE.  Hopefully it will reduce the number of features in the model."
   ]
  },
  {
   "cell_type": "code",
   "execution_count": null,
   "id": "0a0c8a3f-40f1-41bd-b535-6a523f93672a",
   "metadata": {
    "tags": []
   },
   "outputs": [],
   "source": [
    "# Think: what is this code doing?\n",
    "lasso_best_alpha_1se = lasso_cv.alphas_[np.where(\n",
    "    lasso_cv.mse_path_.mean(axis=1) <= (lasso_cv.mse_path_.mean(axis=1).min() + lasso_cv.mse_path_.std(axis=1).mean())\n",
    ")[0][0]]\n",
    "\n",
    "# Fit a Lasso with this new alpha\n",
    "lasso_1se_model = \n",
    "\n",
    "# Identify remaining features for 1-SE rule (those with non-zero coefficients)\n",
    "remaining_features_1se = \n",
    "print(remaining_features_1se)"
   ]
  },
  {
   "cell_type": "markdown",
   "id": "9975e6f2-ae06-421c-a872-5fc08fc38573",
   "metadata": {},
   "source": [
    "### Step 11: Compare the performance of your ridge and lasso regression models.\n"
   ]
  },
  {
   "cell_type": "markdown",
   "id": "bc65f94f",
   "metadata": {},
   "source": [
    "*Your answer here.*"
   ]
  }
 ],
 "metadata": {
  "kernelspec": {
   "display_name": "Anaconda 3 (EDS232)",
   "language": "python",
   "name": "ml-env"
  },
  "language_info": {
   "codemirror_mode": {
    "name": "ipython",
    "version": 3
   },
   "file_extension": ".py",
   "mimetype": "text/x-python",
   "name": "python",
   "nbconvert_exporter": "python",
   "pygments_lexer": "ipython3",
   "version": "3.10.16"
  }
 },
 "nbformat": 4,
 "nbformat_minor": 5
}
